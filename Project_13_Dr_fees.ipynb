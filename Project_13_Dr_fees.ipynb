{
 "cells": [
  {
   "cell_type": "code",
   "execution_count": 1,
   "metadata": {},
   "outputs": [],
   "source": [
    "import pandas as pd\n",
    "import numpy as np\n",
    "import matplotlib.pyplot as plt\n",
    "import warnings\n",
    "import seaborn as sns\n",
    "warnings.filterwarnings('ignore')\n",
    "from sklearn.model_selection import GridSearchCV\n",
    "from sklearn.preprocessing import StandardScaler\n",
    "from sklearn.preprocessing import OrdinalEncoder\n",
    "from sklearn.model_selection import train_test_split\n",
    "from sklearn.metrics import make_scorer"
   ]
  },
  {
   "cell_type": "code",
   "execution_count": 2,
   "metadata": {},
   "outputs": [],
   "source": [
    "train=pd.read_excel(r'C:\\Users\\SANIKA\\Documents\\Final_Train_DR_FEES.xlsx')"
   ]
  },
  {
   "cell_type": "code",
   "execution_count": 3,
   "metadata": {},
   "outputs": [],
   "source": [
    "test=pd.read_excel(r'C:\\Users\\SANIKA\\Documents\\Final_Test_DR_FEES.xlsx')"
   ]
  },
  {
   "cell_type": "code",
   "execution_count": 4,
   "metadata": {},
   "outputs": [
    {
     "data": {
      "text/plain": [
       "((5961, 7), (1987, 6))"
      ]
     },
     "execution_count": 4,
     "metadata": {},
     "output_type": "execute_result"
    }
   ],
   "source": [
    "train.shape,test.shape"
   ]
  },
  {
   "cell_type": "code",
   "execution_count": 5,
   "metadata": {},
   "outputs": [
    {
     "data": {
      "text/html": [
       "<div>\n",
       "<style scoped>\n",
       "    .dataframe tbody tr th:only-of-type {\n",
       "        vertical-align: middle;\n",
       "    }\n",
       "\n",
       "    .dataframe tbody tr th {\n",
       "        vertical-align: top;\n",
       "    }\n",
       "\n",
       "    .dataframe thead th {\n",
       "        text-align: right;\n",
       "    }\n",
       "</style>\n",
       "<table border=\"1\" class=\"dataframe\">\n",
       "  <thead>\n",
       "    <tr style=\"text-align: right;\">\n",
       "      <th></th>\n",
       "      <th>Qualification</th>\n",
       "      <th>Experience</th>\n",
       "      <th>Rating</th>\n",
       "      <th>Place</th>\n",
       "      <th>Profile</th>\n",
       "      <th>Miscellaneous_Info</th>\n",
       "      <th>Fees</th>\n",
       "    </tr>\n",
       "  </thead>\n",
       "  <tbody>\n",
       "    <tr>\n",
       "      <th>0</th>\n",
       "      <td>BHMS, MD - Homeopathy</td>\n",
       "      <td>24 years experience</td>\n",
       "      <td>100%</td>\n",
       "      <td>Kakkanad, Ernakulam</td>\n",
       "      <td>Homeopath</td>\n",
       "      <td>100% 16 Feedback Kakkanad, Ernakulam</td>\n",
       "      <td>100</td>\n",
       "    </tr>\n",
       "    <tr>\n",
       "      <th>1</th>\n",
       "      <td>BAMS, MD - Ayurveda Medicine</td>\n",
       "      <td>12 years experience</td>\n",
       "      <td>98%</td>\n",
       "      <td>Whitefield, Bangalore</td>\n",
       "      <td>Ayurveda</td>\n",
       "      <td>98% 76 Feedback Whitefield, Bangalore</td>\n",
       "      <td>350</td>\n",
       "    </tr>\n",
       "    <tr>\n",
       "      <th>2</th>\n",
       "      <td>MBBS, MS - Otorhinolaryngology</td>\n",
       "      <td>9 years experience</td>\n",
       "      <td>NaN</td>\n",
       "      <td>Mathikere - BEL, Bangalore</td>\n",
       "      <td>ENT Specialist</td>\n",
       "      <td>NaN</td>\n",
       "      <td>300</td>\n",
       "    </tr>\n",
       "    <tr>\n",
       "      <th>3</th>\n",
       "      <td>BSc - Zoology, BAMS</td>\n",
       "      <td>12 years experience</td>\n",
       "      <td>NaN</td>\n",
       "      <td>Bannerghatta Road, Bangalore</td>\n",
       "      <td>Ayurveda</td>\n",
       "      <td>Bannerghatta Road, Bangalore ₹250 Available on...</td>\n",
       "      <td>250</td>\n",
       "    </tr>\n",
       "    <tr>\n",
       "      <th>4</th>\n",
       "      <td>BAMS</td>\n",
       "      <td>20 years experience</td>\n",
       "      <td>100%</td>\n",
       "      <td>Keelkattalai, Chennai</td>\n",
       "      <td>Ayurveda</td>\n",
       "      <td>100% 4 Feedback Keelkattalai, Chennai</td>\n",
       "      <td>250</td>\n",
       "    </tr>\n",
       "  </tbody>\n",
       "</table>\n",
       "</div>"
      ],
      "text/plain": [
       "                    Qualification           Experience Rating  \\\n",
       "0           BHMS, MD - Homeopathy  24 years experience   100%   \n",
       "1    BAMS, MD - Ayurveda Medicine  12 years experience    98%   \n",
       "2  MBBS, MS - Otorhinolaryngology   9 years experience    NaN   \n",
       "3             BSc - Zoology, BAMS  12 years experience    NaN   \n",
       "4                            BAMS  20 years experience   100%   \n",
       "\n",
       "                          Place         Profile  \\\n",
       "0           Kakkanad, Ernakulam       Homeopath   \n",
       "1         Whitefield, Bangalore        Ayurveda   \n",
       "2    Mathikere - BEL, Bangalore  ENT Specialist   \n",
       "3  Bannerghatta Road, Bangalore        Ayurveda   \n",
       "4         Keelkattalai, Chennai        Ayurveda   \n",
       "\n",
       "                                  Miscellaneous_Info  Fees  \n",
       "0               100% 16 Feedback Kakkanad, Ernakulam   100  \n",
       "1              98% 76 Feedback Whitefield, Bangalore   350  \n",
       "2                                                NaN   300  \n",
       "3  Bannerghatta Road, Bangalore ₹250 Available on...   250  \n",
       "4              100% 4 Feedback Keelkattalai, Chennai   250  "
      ]
     },
     "execution_count": 5,
     "metadata": {},
     "output_type": "execute_result"
    }
   ],
   "source": [
    "train.head()"
   ]
  },
  {
   "cell_type": "code",
   "execution_count": 6,
   "metadata": {},
   "outputs": [
    {
     "name": "stdout",
     "output_type": "stream",
     "text": [
      "<class 'pandas.core.frame.DataFrame'>\n",
      "RangeIndex: 5961 entries, 0 to 5960\n",
      "Data columns (total 7 columns):\n",
      " #   Column              Non-Null Count  Dtype \n",
      "---  ------              --------------  ----- \n",
      " 0   Qualification       5961 non-null   object\n",
      " 1   Experience          5961 non-null   object\n",
      " 2   Rating              2659 non-null   object\n",
      " 3   Place               5936 non-null   object\n",
      " 4   Profile             5961 non-null   object\n",
      " 5   Miscellaneous_Info  3341 non-null   object\n",
      " 6   Fees                5961 non-null   int64 \n",
      "dtypes: int64(1), object(6)\n",
      "memory usage: 326.1+ KB\n"
     ]
    }
   ],
   "source": [
    "train.info()"
   ]
  },
  {
   "cell_type": "code",
   "execution_count": 7,
   "metadata": {},
   "outputs": [
    {
     "data": {
      "text/plain": [
       "Qualification            0\n",
       "Experience               0\n",
       "Rating                3302\n",
       "Place                   25\n",
       "Profile                  0\n",
       "Miscellaneous_Info    2620\n",
       "Fees                     0\n",
       "dtype: int64"
      ]
     },
     "execution_count": 7,
     "metadata": {},
     "output_type": "execute_result"
    }
   ],
   "source": [
    "train.isnull().sum()"
   ]
  },
  {
   "cell_type": "code",
   "execution_count": 8,
   "metadata": {},
   "outputs": [
    {
     "data": {
      "text/plain": [
       "Qualification         1420\n",
       "Experience              64\n",
       "Rating                  51\n",
       "Place                  877\n",
       "Profile                  6\n",
       "Miscellaneous_Info    2998\n",
       "Fees                    40\n",
       "dtype: int64"
      ]
     },
     "execution_count": 8,
     "metadata": {},
     "output_type": "execute_result"
    }
   ],
   "source": [
    "train.nunique()"
   ]
  },
  {
   "cell_type": "code",
   "execution_count": 9,
   "metadata": {},
   "outputs": [
    {
     "data": {
      "text/plain": [
       "Index(['Qualification', 'Experience', 'Rating', 'Place', 'Profile',\n",
       "       'Miscellaneous_Info', 'Fees'],\n",
       "      dtype='object')"
      ]
     },
     "execution_count": 9,
     "metadata": {},
     "output_type": "execute_result"
    }
   ],
   "source": [
    "train.columns"
   ]
  },
  {
   "cell_type": "code",
   "execution_count": 10,
   "metadata": {},
   "outputs": [
    {
     "data": {
      "text/plain": [
       "Dentist             1397\n",
       "General Medicine    1173\n",
       "Dermatologists      1034\n",
       "Homeopath            843\n",
       "Ayurveda             786\n",
       "ENT Specialist       728\n",
       "Name: Profile, dtype: int64"
      ]
     },
     "execution_count": 10,
     "metadata": {},
     "output_type": "execute_result"
    }
   ],
   "source": [
    "train['Profile'].value_counts()"
   ]
  },
  {
   "cell_type": "code",
   "execution_count": 11,
   "metadata": {},
   "outputs": [],
   "source": [
    "import sklearn.preprocessing as LabelEncoder\n",
    "\n",
    "train.replace({'Dentist': 0,'General Medicine': 1,'Dermatologists': 2,'Homeopath': 3,'Ayurveda': 4,'ENT Specialist':5}, inplace = True)"
   ]
  },
  {
   "cell_type": "code",
   "execution_count": 12,
   "metadata": {},
   "outputs": [
    {
     "data": {
      "text/html": [
       "<div>\n",
       "<style scoped>\n",
       "    .dataframe tbody tr th:only-of-type {\n",
       "        vertical-align: middle;\n",
       "    }\n",
       "\n",
       "    .dataframe tbody tr th {\n",
       "        vertical-align: top;\n",
       "    }\n",
       "\n",
       "    .dataframe thead th {\n",
       "        text-align: right;\n",
       "    }\n",
       "</style>\n",
       "<table border=\"1\" class=\"dataframe\">\n",
       "  <thead>\n",
       "    <tr style=\"text-align: right;\">\n",
       "      <th></th>\n",
       "      <th>Qualification</th>\n",
       "      <th>Experience</th>\n",
       "      <th>Rating</th>\n",
       "      <th>Place</th>\n",
       "      <th>Profile</th>\n",
       "      <th>Miscellaneous_Info</th>\n",
       "      <th>Fees</th>\n",
       "    </tr>\n",
       "  </thead>\n",
       "  <tbody>\n",
       "    <tr>\n",
       "      <th>0</th>\n",
       "      <td>BHMS, MD - Homeopathy</td>\n",
       "      <td>24 years experience</td>\n",
       "      <td>100%</td>\n",
       "      <td>Kakkanad, Ernakulam</td>\n",
       "      <td>3</td>\n",
       "      <td>100% 16 Feedback Kakkanad, Ernakulam</td>\n",
       "      <td>100</td>\n",
       "    </tr>\n",
       "    <tr>\n",
       "      <th>1</th>\n",
       "      <td>BAMS, MD - Ayurveda Medicine</td>\n",
       "      <td>12 years experience</td>\n",
       "      <td>98%</td>\n",
       "      <td>Whitefield, Bangalore</td>\n",
       "      <td>4</td>\n",
       "      <td>98% 76 Feedback Whitefield, Bangalore</td>\n",
       "      <td>350</td>\n",
       "    </tr>\n",
       "    <tr>\n",
       "      <th>2</th>\n",
       "      <td>MBBS, MS - Otorhinolaryngology</td>\n",
       "      <td>9 years experience</td>\n",
       "      <td>NaN</td>\n",
       "      <td>Mathikere - BEL, Bangalore</td>\n",
       "      <td>5</td>\n",
       "      <td>NaN</td>\n",
       "      <td>300</td>\n",
       "    </tr>\n",
       "    <tr>\n",
       "      <th>3</th>\n",
       "      <td>BSc - Zoology, BAMS</td>\n",
       "      <td>12 years experience</td>\n",
       "      <td>NaN</td>\n",
       "      <td>Bannerghatta Road, Bangalore</td>\n",
       "      <td>4</td>\n",
       "      <td>Bannerghatta Road, Bangalore ₹250 Available on...</td>\n",
       "      <td>250</td>\n",
       "    </tr>\n",
       "    <tr>\n",
       "      <th>4</th>\n",
       "      <td>BAMS</td>\n",
       "      <td>20 years experience</td>\n",
       "      <td>100%</td>\n",
       "      <td>Keelkattalai, Chennai</td>\n",
       "      <td>4</td>\n",
       "      <td>100% 4 Feedback Keelkattalai, Chennai</td>\n",
       "      <td>250</td>\n",
       "    </tr>\n",
       "  </tbody>\n",
       "</table>\n",
       "</div>"
      ],
      "text/plain": [
       "                    Qualification           Experience Rating  \\\n",
       "0           BHMS, MD - Homeopathy  24 years experience   100%   \n",
       "1    BAMS, MD - Ayurveda Medicine  12 years experience    98%   \n",
       "2  MBBS, MS - Otorhinolaryngology   9 years experience    NaN   \n",
       "3             BSc - Zoology, BAMS  12 years experience    NaN   \n",
       "4                            BAMS  20 years experience   100%   \n",
       "\n",
       "                          Place  Profile  \\\n",
       "0           Kakkanad, Ernakulam        3   \n",
       "1         Whitefield, Bangalore        4   \n",
       "2    Mathikere - BEL, Bangalore        5   \n",
       "3  Bannerghatta Road, Bangalore        4   \n",
       "4         Keelkattalai, Chennai        4   \n",
       "\n",
       "                                  Miscellaneous_Info  Fees  \n",
       "0               100% 16 Feedback Kakkanad, Ernakulam   100  \n",
       "1              98% 76 Feedback Whitefield, Bangalore   350  \n",
       "2                                                NaN   300  \n",
       "3  Bannerghatta Road, Bangalore ₹250 Available on...   250  \n",
       "4              100% 4 Feedback Keelkattalai, Chennai   250  "
      ]
     },
     "execution_count": 12,
     "metadata": {},
     "output_type": "execute_result"
    }
   ],
   "source": [
    "train.head()"
   ]
  },
  {
   "cell_type": "code",
   "execution_count": 13,
   "metadata": {},
   "outputs": [
    {
     "name": "stdout",
     "output_type": "stream",
     "text": [
      "<class 'pandas.core.frame.DataFrame'>\n",
      "RangeIndex: 1987 entries, 0 to 1986\n",
      "Data columns (total 6 columns):\n",
      " #   Column              Non-Null Count  Dtype \n",
      "---  ------              --------------  ----- \n",
      " 0   Qualification       1987 non-null   object\n",
      " 1   Experience          1987 non-null   object\n",
      " 2   Rating              897 non-null    object\n",
      " 3   Place               1981 non-null   object\n",
      " 4   Profile             1987 non-null   object\n",
      " 5   Miscellaneous_Info  1153 non-null   object\n",
      "dtypes: object(6)\n",
      "memory usage: 93.3+ KB\n"
     ]
    }
   ],
   "source": [
    "test.info()"
   ]
  },
  {
   "cell_type": "code",
   "execution_count": 14,
   "metadata": {},
   "outputs": [
    {
     "data": {
      "text/plain": [
       "General Medicine    444\n",
       "Dentist             441\n",
       "Dermatologists      339\n",
       "Homeopath           277\n",
       "Ayurveda            251\n",
       "ENT Specialist      235\n",
       "Name: Profile, dtype: int64"
      ]
     },
     "execution_count": 14,
     "metadata": {},
     "output_type": "execute_result"
    }
   ],
   "source": [
    "test['Profile'].value_counts()"
   ]
  },
  {
   "cell_type": "code",
   "execution_count": 15,
   "metadata": {},
   "outputs": [],
   "source": [
    "import sklearn.preprocessing as LabelEncoder\n",
    "\n",
    "test.replace({'Dentist': 0,'General Medicine': 1,'Dermatologists': 2,'Homeopath': 3,'Ayurveda': 4,'ENT Specialist':5}, inplace = True)"
   ]
  },
  {
   "cell_type": "code",
   "execution_count": 16,
   "metadata": {},
   "outputs": [],
   "source": [
    "train['Experience'] = train['Experience'].str.replace('years experience','').astype(int)\n",
    "test['Experience'] = test['Experience'].str.replace('years experience','').astype(int)"
   ]
  },
  {
   "cell_type": "code",
   "execution_count": 17,
   "metadata": {},
   "outputs": [],
   "source": [
    "import re\n",
    "def clean_text(text):\n",
    "    text = str(text).lower()\n",
    "    text = re.sub(r'[^a-z]', ' ', text)\n",
    "    text = re.sub(r'\\s+', ' ', text)\n",
    "    return text\n",
    "\n",
    "train['Qualification'] = train['Qualification'].apply(clean_text)\n",
    "test['Qualification'] = test['Qualification'].apply(clean_text)\n",
    "\n",
    "def clean_place(text):\n",
    "    text = str(text).lower()\n",
    "    text = re.sub(r'[^a-z0-9]', ' ', text)\n",
    "    text = re.sub(r'\\s+', ' ', text)\n",
    "    return text\n",
    "\n",
    "train['Place'].fillna('missing', inplace=True)\n",
    "test['Place'].fillna('missing', inplace=True)\n",
    "train['Place'] = train['Place'].apply(clean_place)\n",
    "test['Place'] = test['Place'].apply(clean_place)"
   ]
  },
  {
   "cell_type": "code",
   "execution_count": 18,
   "metadata": {},
   "outputs": [],
   "source": [
    "train['Rating'].fillna('0%', inplace=True)\n",
    "test['Rating'].fillna('0%', inplace=True)\n",
    "\n",
    "def clean_rating(text):\n",
    "    text = re.sub(r'%', '', str(text))\n",
    "    return text\n",
    "\n",
    "train['Rating'] = train['Rating'].apply(clean_rating)\n",
    "train['Rating'] =train['Rating'].astype(int)\n",
    "\n",
    "test['Rating'] = test['Rating'].apply(clean_rating)\n",
    "test['Rating'] = test['Rating'].astype(int)"
   ]
  },
  {
   "cell_type": "code",
   "execution_count": 19,
   "metadata": {},
   "outputs": [],
   "source": [
    "train['Miscellaneous_Info'].fillna('missing', inplace=True)\n",
    "test['Miscellaneous_Info'].fillna('missing', inplace=True)\n",
    "\n",
    "def get_feedback(feedback):\n",
    "    feedback = re.findall(r'\\d+ Feedback', str(feedback))\n",
    "    if feedback == []:\n",
    "        feedback = '0 Feedback'\n",
    "        return feedback\n",
    "    else:\n",
    "        return feedback[0]\n",
    "\n",
    "train['Feedback'] = train['Miscellaneous_Info'].apply(get_feedback)\n",
    "train['Feedback'] = train['Feedback'].str.replace(' Feedback','')\n",
    "train['Feedback'] = train['Feedback'].astype(int)\n",
    "\n",
    "test['Feedback'] = test['Miscellaneous_Info'].apply(get_feedback)\n",
    "test['Feedback'] = test['Feedback'].str.replace(' Feedback','')\n",
    "test['Feedback'] = test['Feedback'].astype(int)"
   ]
  },
  {
   "cell_type": "code",
   "execution_count": 20,
   "metadata": {},
   "outputs": [],
   "source": [
    "def get_fee(text):\n",
    "    text = re.sub(r',', \"\", text)\n",
    "    text = re.findall(r'₹\\d+', text)\n",
    "    if text != []:\n",
    "        return text[0]\n",
    "    else:\n",
    "        return 0\n",
    "\n",
    "train['Misc_Fees'] = train['Miscellaneous_Info'].apply(get_fee)\n",
    "train['Misc_Fees'] = train['Misc_Fees'].str.replace('₹','')\n",
    "train['Misc_Fees'].fillna(50, inplace=True)\n",
    "train['Misc_Fees'] = train['Misc_Fees'].astype(int)\n",
    "\n",
    "test['Misc_Fees'] = test['Miscellaneous_Info'].apply(get_fee)\n",
    "test['Misc_Fees'] = test['Misc_Fees'].str.replace('₹','')\n",
    "test['Misc_Fees'].fillna(50, inplace=True)\n",
    "test['Misc_Fees'] = test['Misc_Fees'].astype(float)"
   ]
  },
  {
   "cell_type": "code",
   "execution_count": 21,
   "metadata": {},
   "outputs": [],
   "source": [
    "def clean_misc(text):\n",
    "    text = str(text).lower()\n",
    "    text = re.sub(r'[^a-z0-9]', ' ', text)\n",
    "    text = re.sub(r'\\s+', ' ', text)\n",
    "    return text\n",
    "\n",
    "train['Miscellaneous_Info'] = train['Miscellaneous_Info'].apply(clean_misc)\n",
    "test['Miscellaneous_Info'] = test['Miscellaneous_Info'].apply(clean_misc)"
   ]
  },
  {
   "cell_type": "code",
   "execution_count": 22,
   "metadata": {},
   "outputs": [],
   "source": [
    "x = train.drop(labels=['Fees'], axis=1)\n",
    "y = train['Fees'].values"
   ]
  },
  {
   "cell_type": "code",
   "execution_count": 23,
   "metadata": {},
   "outputs": [],
   "source": [
    "# Encoding\n",
    "enc = OrdinalEncoder()\n",
    "x= enc.fit_transform(x)"
   ]
  },
  {
   "cell_type": "code",
   "execution_count": 26,
   "metadata": {},
   "outputs": [],
   "source": [
    "from sklearn.preprocessing import StandardScaler\n",
    "scaler = StandardScaler()\n",
    "x_train = scaler.fit_transform(x_train)"
   ]
  },
  {
   "cell_type": "code",
   "execution_count": 56,
   "metadata": {},
   "outputs": [],
   "source": [
    "from sklearn.model_selection import train_test_split\n",
    "from sklearn.metrics import r2_score,mean_absolute_error,mean_squared_error\n",
    "from sklearn import linear_model\n",
    "def maxr2_score(regr,x,y):\n",
    "    max_r_score=0\n",
    "    for r_state in range(42,100):\n",
    "        x_train, x_test, y_train, y_test = train_test_split(x,y,random_state=r_state,test_size=0.20)\n",
    "        regr.fit(x_train,y_train)\n",
    "        y_pred=regr.predict(x_test)\n",
    "        r2_scr=r2_score(y_test,y_pred)\n",
    "        print('r2_score corresponding to random state:',r_state,'is',r2_scr)\n",
    "        if r2_scr>max_r_score:\n",
    "            max_r_score=r2_scr\n",
    "            final_r_state=r_state\n",
    "\n",
    "    print('max r2 score corresponding to',final_r_state,'is:',max_r_score)\n",
    "    return final_r_state"
   ]
  },
  {
   "cell_type": "code",
   "execution_count": 57,
   "metadata": {
    "scrolled": true
   },
   "outputs": [
    {
     "name": "stdout",
     "output_type": "stream",
     "text": [
      "r2_score corresponding to random state: 42 is 0.13274491749603423\n",
      "r2_score corresponding to random state: 43 is 0.13090034799249373\n",
      "r2_score corresponding to random state: 44 is 0.138572561145749\n",
      "r2_score corresponding to random state: 45 is 0.11451591462107114\n",
      "r2_score corresponding to random state: 46 is 0.10800146606829442\n",
      "r2_score corresponding to random state: 47 is 0.10007879448836854\n",
      "r2_score corresponding to random state: 48 is 0.10805001281039273\n",
      "r2_score corresponding to random state: 49 is 0.1157781408102937\n",
      "r2_score corresponding to random state: 50 is 0.10691045256874299\n",
      "r2_score corresponding to random state: 51 is 0.12003386200484156\n",
      "r2_score corresponding to random state: 52 is 0.06606677876546563\n",
      "r2_score corresponding to random state: 53 is 0.09421915582199847\n",
      "r2_score corresponding to random state: 54 is 0.12148874170004553\n",
      "r2_score corresponding to random state: 55 is 0.11722394373274803\n",
      "r2_score corresponding to random state: 56 is 0.12947769540078535\n",
      "r2_score corresponding to random state: 57 is 0.12070407592615273\n",
      "r2_score corresponding to random state: 58 is 0.07723751139596624\n",
      "r2_score corresponding to random state: 59 is 0.12596848013602424\n",
      "r2_score corresponding to random state: 60 is 0.11850421365925423\n",
      "r2_score corresponding to random state: 61 is 0.09662400656626136\n",
      "r2_score corresponding to random state: 62 is 0.10825583785241066\n",
      "r2_score corresponding to random state: 63 is 0.1317565098259148\n",
      "r2_score corresponding to random state: 64 is 0.12419947419848654\n",
      "r2_score corresponding to random state: 65 is 0.11369863585614182\n",
      "r2_score corresponding to random state: 66 is 0.09353072815436614\n",
      "r2_score corresponding to random state: 67 is 0.10963580375421833\n",
      "r2_score corresponding to random state: 68 is 0.13253179806471427\n",
      "r2_score corresponding to random state: 69 is 0.11403514710917406\n",
      "r2_score corresponding to random state: 70 is 0.11297945096280582\n",
      "r2_score corresponding to random state: 71 is 0.10415534481805633\n",
      "r2_score corresponding to random state: 72 is 0.12052548795779361\n",
      "r2_score corresponding to random state: 73 is 0.11310356929492116\n",
      "r2_score corresponding to random state: 74 is 0.11665011464009578\n",
      "r2_score corresponding to random state: 75 is 0.11145513611946978\n",
      "r2_score corresponding to random state: 76 is 0.1051137004437046\n",
      "r2_score corresponding to random state: 77 is 0.1205447566911152\n",
      "r2_score corresponding to random state: 78 is 0.10606686111431174\n",
      "r2_score corresponding to random state: 79 is 0.12062839023749494\n",
      "r2_score corresponding to random state: 80 is 0.10062838441281996\n",
      "r2_score corresponding to random state: 81 is 0.1149348463027573\n",
      "r2_score corresponding to random state: 82 is 0.10824225253414232\n",
      "r2_score corresponding to random state: 83 is 0.10561778944872446\n",
      "r2_score corresponding to random state: 84 is 0.13415720943763199\n",
      "r2_score corresponding to random state: 85 is 0.12904512592998607\n",
      "r2_score corresponding to random state: 86 is 0.13935183748459246\n",
      "r2_score corresponding to random state: 87 is 0.11305146795214194\n",
      "r2_score corresponding to random state: 88 is 0.11947668829340452\n",
      "r2_score corresponding to random state: 89 is 0.13824463959090816\n",
      "r2_score corresponding to random state: 90 is 0.12286147197616704\n",
      "r2_score corresponding to random state: 91 is 0.09020034107330921\n",
      "r2_score corresponding to random state: 92 is 0.09134931537098256\n",
      "r2_score corresponding to random state: 93 is 0.10821547843964208\n",
      "r2_score corresponding to random state: 94 is 0.10969344269845216\n",
      "r2_score corresponding to random state: 95 is 0.12283664980061892\n",
      "r2_score corresponding to random state: 96 is 0.11908284030834482\n",
      "r2_score corresponding to random state: 97 is 0.1007558934837034\n",
      "r2_score corresponding to random state: 98 is 0.10832921964558673\n",
      "r2_score corresponding to random state: 99 is 0.1210756496869505\n",
      "max r2 score corresponding to 86 is: 0.13935183748459246\n"
     ]
    }
   ],
   "source": [
    "#lets use Linear Regression and check max_r2_score\n",
    "from sklearn.linear_model import LinearRegression\n",
    "lreg=LinearRegression()\n",
    "r_state=maxr2_score(lreg,x,y)"
   ]
  },
  {
   "cell_type": "code",
   "execution_count": 58,
   "metadata": {},
   "outputs": [
    {
     "data": {
      "text/plain": [
       "{'n_neighbors': 29}"
      ]
     },
     "execution_count": 58,
     "metadata": {},
     "output_type": "execute_result"
    }
   ],
   "source": [
    "from sklearn.model_selection import GridSearchCV\n",
    "from sklearn.neighbors import KNeighborsRegressor\n",
    "neighbors={'n_neighbors':range(1,30)}\n",
    "knr=KNeighborsRegressor()\n",
    "gknr=GridSearchCV(knr,neighbors,cv=10)\n",
    "gknr.fit(x,y)\n",
    "gknr.best_params_"
   ]
  },
  {
   "cell_type": "code",
   "execution_count": 59,
   "metadata": {
    "scrolled": true
   },
   "outputs": [
    {
     "name": "stdout",
     "output_type": "stream",
     "text": [
      "r2_score corresponding to random state: 42 is 0.13823909598054307\n",
      "r2_score corresponding to random state: 43 is 0.129466354458745\n",
      "r2_score corresponding to random state: 44 is 0.16049937623435773\n",
      "r2_score corresponding to random state: 45 is 0.12711081717631956\n",
      "r2_score corresponding to random state: 46 is 0.11566346139438155\n",
      "r2_score corresponding to random state: 47 is 0.09896896966526703\n",
      "r2_score corresponding to random state: 48 is 0.11823072253314237\n",
      "r2_score corresponding to random state: 49 is 0.13282123247423194\n",
      "r2_score corresponding to random state: 50 is 0.12846487178561738\n",
      "r2_score corresponding to random state: 51 is 0.12081268476693707\n",
      "r2_score corresponding to random state: 52 is 0.09984945802553524\n",
      "r2_score corresponding to random state: 53 is 0.10375553580200758\n",
      "r2_score corresponding to random state: 54 is 0.14337067970965622\n",
      "r2_score corresponding to random state: 55 is 0.11276327578510403\n",
      "r2_score corresponding to random state: 56 is 0.14085524856301712\n",
      "r2_score corresponding to random state: 57 is 0.12489325200309076\n",
      "r2_score corresponding to random state: 58 is 0.06965017877479496\n",
      "r2_score corresponding to random state: 59 is 0.1336867106217109\n",
      "r2_score corresponding to random state: 60 is 0.1620586725098202\n",
      "r2_score corresponding to random state: 61 is 0.07446517089186377\n",
      "r2_score corresponding to random state: 62 is 0.11655550300784479\n",
      "r2_score corresponding to random state: 63 is 0.13460241024482023\n",
      "r2_score corresponding to random state: 64 is 0.12700806256658703\n",
      "r2_score corresponding to random state: 65 is 0.11277417350335905\n",
      "r2_score corresponding to random state: 66 is 0.11750856296729983\n",
      "r2_score corresponding to random state: 67 is 0.13294599025458942\n",
      "r2_score corresponding to random state: 68 is 0.12670296896494304\n",
      "r2_score corresponding to random state: 69 is 0.1496883634206998\n",
      "r2_score corresponding to random state: 70 is 0.11382396870545197\n",
      "r2_score corresponding to random state: 71 is 0.13281729355666372\n",
      "r2_score corresponding to random state: 72 is 0.13197205380726795\n",
      "r2_score corresponding to random state: 73 is 0.10567457388802015\n",
      "r2_score corresponding to random state: 74 is 0.14465905704660464\n",
      "r2_score corresponding to random state: 75 is 0.09815192360340297\n",
      "r2_score corresponding to random state: 76 is 0.11297935085560518\n",
      "r2_score corresponding to random state: 77 is 0.1230889965199301\n",
      "r2_score corresponding to random state: 78 is 0.10611607195215123\n",
      "r2_score corresponding to random state: 79 is 0.12306220054117845\n",
      "r2_score corresponding to random state: 80 is 0.12019501555838719\n",
      "r2_score corresponding to random state: 81 is 0.12406991750870644\n",
      "r2_score corresponding to random state: 82 is 0.09652533778114758\n",
      "r2_score corresponding to random state: 83 is 0.09419803753653466\n",
      "r2_score corresponding to random state: 84 is 0.13810945484503978\n",
      "r2_score corresponding to random state: 85 is 0.10168279310730555\n",
      "r2_score corresponding to random state: 86 is 0.12621266379961604\n",
      "r2_score corresponding to random state: 87 is 0.11703867492675213\n",
      "r2_score corresponding to random state: 88 is 0.13753995942716335\n",
      "r2_score corresponding to random state: 89 is 0.1518044623776078\n",
      "r2_score corresponding to random state: 90 is 0.12279807336285908\n",
      "r2_score corresponding to random state: 91 is 0.10483460390256238\n",
      "r2_score corresponding to random state: 92 is 0.07630962587990842\n",
      "r2_score corresponding to random state: 93 is 0.11645859208284925\n",
      "r2_score corresponding to random state: 94 is 0.13493451865083583\n",
      "r2_score corresponding to random state: 95 is 0.08954489114363495\n",
      "r2_score corresponding to random state: 96 is 0.09692726792670103\n",
      "r2_score corresponding to random state: 97 is 0.10413319535175225\n",
      "r2_score corresponding to random state: 98 is 0.10015830384238167\n",
      "r2_score corresponding to random state: 99 is 0.1078788685344294\n",
      "max r2 score corresponding to 60 is: 0.1620586725098202\n"
     ]
    }
   ],
   "source": [
    "#lets use KNN regression and check max r2 score\n",
    "knr=KNeighborsRegressor(n_neighbors=29)\n",
    "r_state=maxr2_score(knr,x,y)"
   ]
  },
  {
   "cell_type": "code",
   "execution_count": 60,
   "metadata": {},
   "outputs": [
    {
     "name": "stdout",
     "output_type": "stream",
     "text": [
      "Mean r2 score for Linear Regression: 0.11107771474067099\n",
      "standard deviation in r2 score for Linear Regression:  0.010066988997402134\n",
      "\n",
      "Mean r2 score for KNN Regression: 0.11976187361027887\n",
      "standard deviation in r2 score for KNeighborsRegressor:  0.011354001849983772\n",
      "\n"
     ]
    }
   ],
   "source": [
    "from sklearn.model_selection import cross_val_score\n",
    "print('Mean r2 score for Linear Regression:',cross_val_score(lreg,x,y,cv=5,scoring='r2').mean())\n",
    "print('standard deviation in r2 score for Linear Regression: ',cross_val_score(lreg,x,y,cv=5,scoring='r2').std())\n",
    "print()\n",
    "print('Mean r2 score for KNN Regression:',cross_val_score(knr,x,y,cv=5,scoring='r2').mean())\n",
    "print('standard deviation in r2 score for KNeighborsRegressor: ',cross_val_score(knr,x,y,cv=5,scoring='r2').std())\n",
    "print()"
   ]
  },
  {
   "cell_type": "code",
   "execution_count": 61,
   "metadata": {},
   "outputs": [
    {
     "data": {
      "text/plain": [
       "{'alpha': 0.1}"
      ]
     },
     "execution_count": 61,
     "metadata": {},
     "output_type": "execute_result"
    }
   ],
   "source": [
    "#lets check lasso regression & find alpha\n",
    "from sklearn.linear_model import Lasso\n",
    "lsreg=Lasso()\n",
    "parameters={'alpha':[0.001,0.01,0.1,1]}\n",
    "clf=GridSearchCV(lsreg,parameters,cv=10)\n",
    "clf.fit(x,y)\n",
    "clf.best_params_"
   ]
  },
  {
   "cell_type": "code",
   "execution_count": 62,
   "metadata": {
    "scrolled": true
   },
   "outputs": [
    {
     "name": "stdout",
     "output_type": "stream",
     "text": [
      "r2_score corresponding to random state: 42 is 0.13268165802339293\n",
      "r2_score corresponding to random state: 43 is 0.13088504949509794\n",
      "r2_score corresponding to random state: 44 is 0.13857126963337818\n",
      "r2_score corresponding to random state: 45 is 0.11449202201597775\n",
      "r2_score corresponding to random state: 46 is 0.10801955666189178\n",
      "r2_score corresponding to random state: 47 is 0.10005188144746413\n",
      "r2_score corresponding to random state: 48 is 0.10804828698478419\n",
      "r2_score corresponding to random state: 49 is 0.11578377487037639\n",
      "r2_score corresponding to random state: 50 is 0.10689141906091426\n",
      "r2_score corresponding to random state: 51 is 0.12000260849253142\n",
      "r2_score corresponding to random state: 52 is 0.06616562065741005\n",
      "r2_score corresponding to random state: 53 is 0.09424022214772465\n",
      "r2_score corresponding to random state: 54 is 0.12143063221435546\n",
      "r2_score corresponding to random state: 55 is 0.11719377689053723\n",
      "r2_score corresponding to random state: 56 is 0.12944759995476307\n",
      "r2_score corresponding to random state: 57 is 0.12066544722423733\n",
      "r2_score corresponding to random state: 58 is 0.07728919744376239\n",
      "r2_score corresponding to random state: 59 is 0.12596069078394467\n",
      "r2_score corresponding to random state: 60 is 0.11854521328443357\n",
      "r2_score corresponding to random state: 61 is 0.0966232191218307\n",
      "r2_score corresponding to random state: 62 is 0.10825558968441795\n",
      "r2_score corresponding to random state: 63 is 0.1317062945604246\n",
      "r2_score corresponding to random state: 64 is 0.12417120649958102\n",
      "r2_score corresponding to random state: 65 is 0.11367133413899133\n",
      "r2_score corresponding to random state: 66 is 0.09354362589244858\n",
      "r2_score corresponding to random state: 67 is 0.10973528653274023\n",
      "r2_score corresponding to random state: 68 is 0.1325061715670791\n",
      "r2_score corresponding to random state: 69 is 0.11409443252203577\n",
      "r2_score corresponding to random state: 70 is 0.11291899186604193\n",
      "r2_score corresponding to random state: 71 is 0.10414549108450444\n",
      "r2_score corresponding to random state: 72 is 0.12051636839934021\n",
      "r2_score corresponding to random state: 73 is 0.11311765446261479\n",
      "r2_score corresponding to random state: 74 is 0.11668279061474329\n",
      "r2_score corresponding to random state: 75 is 0.1114625185473399\n",
      "r2_score corresponding to random state: 76 is 0.1051305260427654\n",
      "r2_score corresponding to random state: 77 is 0.12047514359501743\n",
      "r2_score corresponding to random state: 78 is 0.10610858557381209\n",
      "r2_score corresponding to random state: 79 is 0.12066557079309237\n",
      "r2_score corresponding to random state: 80 is 0.10062593309544521\n",
      "r2_score corresponding to random state: 81 is 0.11492329632076481\n",
      "r2_score corresponding to random state: 82 is 0.10828071584089538\n",
      "r2_score corresponding to random state: 83 is 0.10554058545826439\n",
      "r2_score corresponding to random state: 84 is 0.1340828035533913\n",
      "r2_score corresponding to random state: 85 is 0.12895687844911496\n",
      "r2_score corresponding to random state: 86 is 0.13933470593682407\n",
      "r2_score corresponding to random state: 87 is 0.11297866038839821\n",
      "r2_score corresponding to random state: 88 is 0.11941190616117658\n",
      "r2_score corresponding to random state: 89 is 0.13823284335303176\n",
      "r2_score corresponding to random state: 90 is 0.12283700835886757\n",
      "r2_score corresponding to random state: 91 is 0.09021226529902826\n",
      "r2_score corresponding to random state: 92 is 0.09131665975376213\n",
      "r2_score corresponding to random state: 93 is 0.10829288410221449\n",
      "r2_score corresponding to random state: 94 is 0.10972235227334237\n",
      "r2_score corresponding to random state: 95 is 0.12277511994781032\n",
      "r2_score corresponding to random state: 96 is 0.11907689383563724\n",
      "r2_score corresponding to random state: 97 is 0.10074751076631461\n",
      "r2_score corresponding to random state: 98 is 0.10827980322785813\n",
      "r2_score corresponding to random state: 99 is 0.12101290760208228\n",
      "max r2 score corresponding to 86 is: 0.13933470593682407\n"
     ]
    }
   ],
   "source": [
    "#lets check max_r2_score with alpha=0.1\n",
    "lsreg=Lasso(alpha=0.1)\n",
    "r_state=maxr2_score(lsreg,x,y)"
   ]
  },
  {
   "cell_type": "code",
   "execution_count": 63,
   "metadata": {},
   "outputs": [
    {
     "name": "stdout",
     "output_type": "stream",
     "text": [
      "Mean r2 score for Lasso Regression: 0.11107908812808012\n",
      "standard deviation in r2 score for Lasso Regression:  0.010033285776466784\n",
      "\n"
     ]
    }
   ],
   "source": [
    "print('Mean r2 score for Lasso Regression:',cross_val_score(lsreg,x,y,cv=5,scoring='r2').mean())\n",
    "print('standard deviation in r2 score for Lasso Regression: ',cross_val_score(lsreg,x,y,cv=5,scoring='r2').std())\n",
    "print()"
   ]
  },
  {
   "cell_type": "code",
   "execution_count": 64,
   "metadata": {},
   "outputs": [
    {
     "data": {
      "text/plain": [
       "{'learning_rate': 0.1, 'n_estimators': 500}"
      ]
     },
     "execution_count": 64,
     "metadata": {},
     "output_type": "execute_result"
    }
   ],
   "source": [
    "#Now we will try to boost \n",
    "from sklearn.ensemble import GradientBoostingRegressor\n",
    "import warnings\n",
    "warnings.filterwarnings('ignore')\n",
    "gbr=GradientBoostingRegressor()\n",
    "parameters={'learning_rate':[0.001,0.01,0.1,1],'n_estimators':[10,100,500,1000]}\n",
    "clf=GridSearchCV(gbr,parameters,cv=5)\n",
    "clf.fit(x,y)\n",
    "clf.best_params_"
   ]
  },
  {
   "cell_type": "code",
   "execution_count": 65,
   "metadata": {},
   "outputs": [
    {
     "name": "stdout",
     "output_type": "stream",
     "text": [
      "Mean r2 score for GradientBoostingRegressor: 0.21024925867578315\n",
      "standard deviation in r2 score for GradientBoostingRegressor:  0.03079406612859646\n",
      "\n"
     ]
    }
   ],
   "source": [
    "gbr=GradientBoostingRegressor(learning_rate=0.1 ,n_estimators=500 )\n",
    "print('Mean r2 score for GradientBoostingRegressor:',cross_val_score(gbr,x,y,cv=5,scoring='r2').mean())\n",
    "print('standard deviation in r2 score for GradientBoostingRegressor: ',cross_val_score(gbr,x,y,cv=5,scoring='r2').std())\n",
    "print()"
   ]
  },
  {
   "cell_type": "code",
   "execution_count": 66,
   "metadata": {},
   "outputs": [
    {
     "data": {
      "text/plain": [
       "{'base_estimator': DecisionTreeRegressor(ccp_alpha=0.0, criterion='mse', max_depth=None,\n",
       "                       max_features=None, max_leaf_nodes=None,\n",
       "                       min_impurity_decrease=0.0, min_impurity_split=None,\n",
       "                       min_samples_leaf=1, min_samples_split=2,\n",
       "                       min_weight_fraction_leaf=0.0, presort='deprecated',\n",
       "                       random_state=None, splitter='best'),\n",
       " 'learning_rate': 1,\n",
       " 'n_estimators': 1000}"
      ]
     },
     "execution_count": 66,
     "metadata": {},
     "output_type": "execute_result"
    }
   ],
   "source": [
    "from sklearn.ensemble import AdaBoostRegressor\n",
    "from sklearn.tree import DecisionTreeRegressor\n",
    "import warnings\n",
    "warnings.filterwarnings('ignore')\n",
    "ada_reg=AdaBoostRegressor()\n",
    "parameters={'learning_rate':[0.001,0.01,0.1,1],'n_estimators':[10,100,500,1000],\n",
    "            'base_estimator':[lreg,lsreg,DecisionTreeRegressor()]}\n",
    "clf=GridSearchCV(ada_reg,parameters,cv=5)\n",
    "clf.fit(x,y)\n",
    "clf.best_params_"
   ]
  },
  {
   "cell_type": "code",
   "execution_count": 69,
   "metadata": {},
   "outputs": [
    {
     "name": "stdout",
     "output_type": "stream",
     "text": [
      "Mean r2 score for AdaBoostRegressor: 0.08683536197823964\n",
      "standard deviation in r2 score for AdaBoostRegressor:  0.007758425849826657\n",
      "\n"
     ]
    }
   ],
   "source": [
    "ada_reg=AdaBoostRegressor(learning_rate=1 ,n_estimators=1000 )\n",
    "print('Mean r2 score for AdaBoostRegressor:',cross_val_score(ada_reg,x,y,cv=5,scoring='r2').mean())\n",
    "print('standard deviation in r2 score for AdaBoostRegressor: ',cross_val_score(ada_reg,x,y,cv=5,scoring='r2').std())\n",
    "print()"
   ]
  },
  {
   "cell_type": "code",
   "execution_count": 68,
   "metadata": {
    "scrolled": true
   },
   "outputs": [
    {
     "name": "stdout",
     "output_type": "stream",
     "text": [
      "r2_score corresponding to random state: 42 is 0.11511739483869465\n",
      "r2_score corresponding to random state: 43 is 0.0965403542082588\n",
      "r2_score corresponding to random state: 44 is 0.1133549971998904\n",
      "r2_score corresponding to random state: 45 is 0.08920266647873465\n",
      "r2_score corresponding to random state: 46 is 0.06168824853970456\n",
      "r2_score corresponding to random state: 47 is 0.0695869140831703\n",
      "r2_score corresponding to random state: 48 is 0.09731315972507792\n",
      "r2_score corresponding to random state: 49 is 0.07611545597707792\n",
      "r2_score corresponding to random state: 50 is 0.1003646744990141\n",
      "r2_score corresponding to random state: 51 is 0.10645626965265065\n",
      "r2_score corresponding to random state: 52 is 0.08416223469571404\n",
      "r2_score corresponding to random state: 53 is 0.054092912230573\n",
      "r2_score corresponding to random state: 54 is 0.11130790521851586\n",
      "r2_score corresponding to random state: 55 is 0.07873195489682094\n",
      "r2_score corresponding to random state: 56 is 0.059646065189426056\n",
      "r2_score corresponding to random state: 57 is 0.11698230132008991\n",
      "r2_score corresponding to random state: 58 is 0.050751497102714205\n",
      "r2_score corresponding to random state: 59 is 0.1226227411140276\n",
      "r2_score corresponding to random state: 60 is 0.061130890186421816\n",
      "r2_score corresponding to random state: 61 is 0.0682617352211069\n",
      "r2_score corresponding to random state: 62 is 0.11315699909414378\n",
      "r2_score corresponding to random state: 63 is 0.10730897740414247\n",
      "r2_score corresponding to random state: 64 is 0.09649051090153715\n",
      "r2_score corresponding to random state: 65 is 0.06825677132272268\n",
      "r2_score corresponding to random state: 66 is 0.07787573535994707\n",
      "r2_score corresponding to random state: 67 is 0.11999494093168772\n",
      "r2_score corresponding to random state: 68 is 0.07180976653432425\n",
      "r2_score corresponding to random state: 69 is 0.09556474459691344\n",
      "r2_score corresponding to random state: 70 is 0.10130034445028713\n",
      "r2_score corresponding to random state: 71 is 0.11156389775924325\n",
      "r2_score corresponding to random state: 72 is 0.07600213835111524\n",
      "r2_score corresponding to random state: 73 is 0.08796518480302395\n",
      "r2_score corresponding to random state: 74 is 0.1074042793009975\n",
      "r2_score corresponding to random state: 75 is 0.0969734000233834\n",
      "r2_score corresponding to random state: 76 is 0.08295253354045673\n",
      "r2_score corresponding to random state: 77 is 0.08510841353681031\n",
      "r2_score corresponding to random state: 78 is 0.10409253302966959\n",
      "r2_score corresponding to random state: 79 is 0.10407895052675353\n",
      "r2_score corresponding to random state: 80 is 0.07042427565835174\n",
      "r2_score corresponding to random state: 81 is 0.11101860700619393\n",
      "r2_score corresponding to random state: 82 is 0.06011792442834574\n",
      "r2_score corresponding to random state: 83 is 0.072648375094028\n",
      "r2_score corresponding to random state: 84 is 0.07521024680663857\n",
      "r2_score corresponding to random state: 85 is 0.06550551367841428\n",
      "r2_score corresponding to random state: 86 is 0.0787044944958254\n",
      "r2_score corresponding to random state: 87 is 0.03232596656154685\n",
      "r2_score corresponding to random state: 88 is 0.09224551675699577\n",
      "r2_score corresponding to random state: 89 is 0.10356970265950305\n",
      "r2_score corresponding to random state: 90 is 0.10961768330177102\n",
      "r2_score corresponding to random state: 91 is 0.10072890085854569\n",
      "r2_score corresponding to random state: 92 is 0.07485503969404628\n",
      "r2_score corresponding to random state: 93 is 0.09521337731859314\n",
      "r2_score corresponding to random state: 94 is 0.09736267026276035\n",
      "r2_score corresponding to random state: 95 is 0.08771080676229903\n",
      "r2_score corresponding to random state: 96 is 0.0884548037445484\n",
      "r2_score corresponding to random state: 97 is 0.088817437499773\n",
      "r2_score corresponding to random state: 98 is 0.0905146412327037\n",
      "r2_score corresponding to random state: 99 is 0.11681893406587862\n",
      "max r2 score corresponding to 59 is: 0.1226227411140276\n"
     ]
    }
   ],
   "source": [
    "r_state=maxr2_score(ada_reg,x,y)"
   ]
  },
  {
   "cell_type": "code",
   "execution_count": 70,
   "metadata": {
    "scrolled": true
   },
   "outputs": [
    {
     "name": "stdout",
     "output_type": "stream",
     "text": [
      "r2_score corresponding to random state: 42 is 0.22740353619329756\n",
      "r2_score corresponding to random state: 43 is 0.19626072633456404\n",
      "r2_score corresponding to random state: 44 is 0.2447827342429577\n",
      "r2_score corresponding to random state: 45 is 0.1907866466050402\n",
      "r2_score corresponding to random state: 46 is 0.17765676675645914\n",
      "r2_score corresponding to random state: 47 is 0.1980149401584126\n",
      "r2_score corresponding to random state: 48 is 0.1850051798717287\n",
      "r2_score corresponding to random state: 49 is 0.20471080554064047\n",
      "r2_score corresponding to random state: 50 is 0.16836427185011493\n",
      "r2_score corresponding to random state: 51 is 0.2051298351077152\n",
      "r2_score corresponding to random state: 52 is 0.169710761564296\n",
      "r2_score corresponding to random state: 53 is 0.17843921305617383\n",
      "r2_score corresponding to random state: 54 is 0.24580348775731975\n",
      "r2_score corresponding to random state: 55 is 0.21880664579785591\n",
      "r2_score corresponding to random state: 56 is 0.22184801167141466\n",
      "r2_score corresponding to random state: 57 is 0.2237313652245283\n",
      "r2_score corresponding to random state: 58 is 0.17886276681072666\n",
      "r2_score corresponding to random state: 59 is 0.21245156042068836\n",
      "r2_score corresponding to random state: 60 is 0.23037694013529397\n",
      "r2_score corresponding to random state: 61 is 0.19289445743218137\n",
      "r2_score corresponding to random state: 62 is 0.2072081076945249\n",
      "r2_score corresponding to random state: 63 is 0.2646764009004361\n",
      "r2_score corresponding to random state: 64 is 0.17162952763268413\n",
      "r2_score corresponding to random state: 65 is 0.2163217108172545\n",
      "r2_score corresponding to random state: 66 is 0.1973185025018288\n",
      "r2_score corresponding to random state: 67 is 0.19057412621754166\n",
      "r2_score corresponding to random state: 68 is 0.22288158093991506\n",
      "r2_score corresponding to random state: 69 is 0.22412077678417408\n",
      "r2_score corresponding to random state: 70 is 0.2116823975562352\n",
      "r2_score corresponding to random state: 71 is 0.19486947609299954\n",
      "r2_score corresponding to random state: 72 is 0.20825007775848858\n",
      "r2_score corresponding to random state: 73 is 0.2161293676966729\n",
      "r2_score corresponding to random state: 74 is 0.24186504944262255\n",
      "r2_score corresponding to random state: 75 is 0.2048569880268597\n",
      "r2_score corresponding to random state: 76 is 0.220636291599123\n",
      "r2_score corresponding to random state: 77 is 0.1953720299257703\n",
      "r2_score corresponding to random state: 78 is 0.20026092369404058\n",
      "r2_score corresponding to random state: 79 is 0.19201078321469978\n",
      "r2_score corresponding to random state: 80 is 0.21693636967166963\n",
      "r2_score corresponding to random state: 81 is 0.23139596063185464\n",
      "r2_score corresponding to random state: 82 is 0.19093198024724078\n",
      "r2_score corresponding to random state: 83 is 0.19695916873957509\n",
      "r2_score corresponding to random state: 84 is 0.22197702874555048\n",
      "r2_score corresponding to random state: 85 is 0.19669846713432837\n",
      "r2_score corresponding to random state: 86 is 0.22459577624073856\n",
      "r2_score corresponding to random state: 87 is 0.19076237594166268\n",
      "r2_score corresponding to random state: 88 is 0.20675881761432613\n",
      "r2_score corresponding to random state: 89 is 0.24069379668435076\n",
      "r2_score corresponding to random state: 90 is 0.22453249817635823\n",
      "r2_score corresponding to random state: 91 is 0.21095705969507417\n",
      "r2_score corresponding to random state: 92 is 0.16329856581509694\n",
      "r2_score corresponding to random state: 93 is 0.18494830501654402\n",
      "r2_score corresponding to random state: 94 is 0.23622198665852434\n",
      "r2_score corresponding to random state: 95 is 0.21093565821433946\n",
      "r2_score corresponding to random state: 96 is 0.1579056959644647\n",
      "r2_score corresponding to random state: 97 is 0.1796689797870752\n",
      "r2_score corresponding to random state: 98 is 0.2218541851069885\n",
      "r2_score corresponding to random state: 99 is 0.23453197183966978\n",
      "max r2 score corresponding to 63 is: 0.2646764009004361\n"
     ]
    }
   ],
   "source": [
    "r_state=maxr2_score(gbr,x,y)"
   ]
  },
  {
   "cell_type": "code",
   "execution_count": 71,
   "metadata": {},
   "outputs": [],
   "source": [
    "#We tried all the models and till now the best is\n",
    "x_train,x_test,y_train,y_test = train_test_split(x,y,random_state =63 ,test_size = 0.20)\n",
    "gbr=GradientBoostingRegressor()\n",
    "gbr.fit(x_train, y_train)\n",
    "y_pred=gbr.predict(x_test)"
   ]
  },
  {
   "cell_type": "code",
   "execution_count": 72,
   "metadata": {},
   "outputs": [
    {
     "name": "stdout",
     "output_type": "stream",
     "text": [
      "RMSE: 166.68128110624946\n",
      "r2 score is: 0.2480469655687395\n"
     ]
    }
   ],
   "source": [
    "import numpy as np\n",
    "from sklearn.metrics import r2_score\n",
    "from sklearn.metrics import mean_squared_error\n",
    "print('RMSE:', np.sqrt(mean_squared_error(y_test, y_pred)))\n",
    "print('r2 score is:',r2_score(y_test, y_pred))"
   ]
  },
  {
   "cell_type": "markdown",
   "metadata": {},
   "source": [
    "I choose GradientBoostingRegressor as my final model because it performed very well on dataset"
   ]
  },
  {
   "cell_type": "code",
   "execution_count": 73,
   "metadata": {},
   "outputs": [
    {
     "data": {
      "text/plain": [
       "['Project13.obj']"
      ]
     },
     "execution_count": 73,
     "metadata": {},
     "output_type": "execute_result"
    }
   ],
   "source": [
    "from sklearn.externals import joblib\n",
    "#save the model \n",
    "joblib.dump(gbr, 'Project13.obj')"
   ]
  },
  {
   "cell_type": "code",
   "execution_count": null,
   "metadata": {},
   "outputs": [],
   "source": []
  },
  {
   "cell_type": "code",
   "execution_count": null,
   "metadata": {},
   "outputs": [],
   "source": []
  }
 ],
 "metadata": {
  "kernelspec": {
   "display_name": "Python 3",
   "language": "python",
   "name": "python3"
  },
  "language_info": {
   "codemirror_mode": {
    "name": "ipython",
    "version": 3
   },
   "file_extension": ".py",
   "mimetype": "text/x-python",
   "name": "python",
   "nbconvert_exporter": "python",
   "pygments_lexer": "ipython3",
   "version": "3.7.6"
  }
 },
 "nbformat": 4,
 "nbformat_minor": 4
}
