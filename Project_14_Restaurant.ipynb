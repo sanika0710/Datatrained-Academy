{
 "cells": [
  {
   "cell_type": "code",
   "execution_count": 1,
   "metadata": {},
   "outputs": [],
   "source": [
    "import pandas as pd\n",
    "import numpy as np\n",
    "import matplotlib.pyplot as plt\n",
    "import seaborn as sns\n",
    "import warnings\n",
    "warnings.filterwarnings('ignore')"
   ]
  },
  {
   "cell_type": "code",
   "execution_count": 2,
   "metadata": {},
   "outputs": [],
   "source": [
    "train = pd.read_excel(r'C:\\Users\\SANIKA\\Documents\\Data_Train_Restaurant.xlsx')\n",
    "test = pd.read_excel(r'C:\\Users\\SANIKA\\Documents\\Data_Test_Restaurant.xlsx')"
   ]
  },
  {
   "cell_type": "code",
   "execution_count": 3,
   "metadata": {},
   "outputs": [
    {
     "data": {
      "text/html": [
       "<div>\n",
       "<style scoped>\n",
       "    .dataframe tbody tr th:only-of-type {\n",
       "        vertical-align: middle;\n",
       "    }\n",
       "\n",
       "    .dataframe tbody tr th {\n",
       "        vertical-align: top;\n",
       "    }\n",
       "\n",
       "    .dataframe thead th {\n",
       "        text-align: right;\n",
       "    }\n",
       "</style>\n",
       "<table border=\"1\" class=\"dataframe\">\n",
       "  <thead>\n",
       "    <tr style=\"text-align: right;\">\n",
       "      <th></th>\n",
       "      <th>TITLE</th>\n",
       "      <th>RESTAURANT_ID</th>\n",
       "      <th>CUISINES</th>\n",
       "      <th>TIME</th>\n",
       "      <th>CITY</th>\n",
       "      <th>LOCALITY</th>\n",
       "      <th>RATING</th>\n",
       "      <th>VOTES</th>\n",
       "      <th>COST</th>\n",
       "    </tr>\n",
       "  </thead>\n",
       "  <tbody>\n",
       "    <tr>\n",
       "      <th>0</th>\n",
       "      <td>CASUAL DINING</td>\n",
       "      <td>9438</td>\n",
       "      <td>Malwani, Goan, North Indian</td>\n",
       "      <td>11am – 4pm, 7:30pm – 11:30pm (Mon-Sun)</td>\n",
       "      <td>Thane</td>\n",
       "      <td>Dombivali East</td>\n",
       "      <td>3.6</td>\n",
       "      <td>49 votes</td>\n",
       "      <td>1200</td>\n",
       "    </tr>\n",
       "    <tr>\n",
       "      <th>1</th>\n",
       "      <td>CASUAL DINING,BAR</td>\n",
       "      <td>13198</td>\n",
       "      <td>Asian, Modern Indian, Japanese</td>\n",
       "      <td>6pm – 11pm (Mon-Sun)</td>\n",
       "      <td>Chennai</td>\n",
       "      <td>Ramapuram</td>\n",
       "      <td>4.2</td>\n",
       "      <td>30 votes</td>\n",
       "      <td>1500</td>\n",
       "    </tr>\n",
       "    <tr>\n",
       "      <th>2</th>\n",
       "      <td>CASUAL DINING</td>\n",
       "      <td>10915</td>\n",
       "      <td>North Indian, Chinese, Biryani, Hyderabadi</td>\n",
       "      <td>11am – 3:30pm, 7pm – 11pm (Mon-Sun)</td>\n",
       "      <td>Chennai</td>\n",
       "      <td>Saligramam</td>\n",
       "      <td>3.8</td>\n",
       "      <td>221 votes</td>\n",
       "      <td>800</td>\n",
       "    </tr>\n",
       "    <tr>\n",
       "      <th>3</th>\n",
       "      <td>QUICK BITES</td>\n",
       "      <td>6346</td>\n",
       "      <td>Tibetan, Chinese</td>\n",
       "      <td>11:30am – 1am (Mon-Sun)</td>\n",
       "      <td>Mumbai</td>\n",
       "      <td>Bandra West</td>\n",
       "      <td>4.1</td>\n",
       "      <td>24 votes</td>\n",
       "      <td>800</td>\n",
       "    </tr>\n",
       "    <tr>\n",
       "      <th>4</th>\n",
       "      <td>DESSERT PARLOR</td>\n",
       "      <td>15387</td>\n",
       "      <td>Desserts</td>\n",
       "      <td>11am – 1am (Mon-Sun)</td>\n",
       "      <td>Mumbai</td>\n",
       "      <td>Lower Parel</td>\n",
       "      <td>3.8</td>\n",
       "      <td>165 votes</td>\n",
       "      <td>300</td>\n",
       "    </tr>\n",
       "  </tbody>\n",
       "</table>\n",
       "</div>"
      ],
      "text/plain": [
       "               TITLE  RESTAURANT_ID  \\\n",
       "0      CASUAL DINING           9438   \n",
       "1  CASUAL DINING,BAR          13198   \n",
       "2      CASUAL DINING          10915   \n",
       "3        QUICK BITES           6346   \n",
       "4     DESSERT PARLOR          15387   \n",
       "\n",
       "                                     CUISINES  \\\n",
       "0                 Malwani, Goan, North Indian   \n",
       "1              Asian, Modern Indian, Japanese   \n",
       "2  North Indian, Chinese, Biryani, Hyderabadi   \n",
       "3                            Tibetan, Chinese   \n",
       "4                                    Desserts   \n",
       "\n",
       "                                     TIME     CITY        LOCALITY RATING  \\\n",
       "0  11am – 4pm, 7:30pm – 11:30pm (Mon-Sun)    Thane  Dombivali East    3.6   \n",
       "1                    6pm – 11pm (Mon-Sun)  Chennai       Ramapuram    4.2   \n",
       "2     11am – 3:30pm, 7pm – 11pm (Mon-Sun)  Chennai      Saligramam    3.8   \n",
       "3                 11:30am – 1am (Mon-Sun)   Mumbai     Bandra West    4.1   \n",
       "4                    11am – 1am (Mon-Sun)   Mumbai     Lower Parel    3.8   \n",
       "\n",
       "       VOTES  COST  \n",
       "0   49 votes  1200  \n",
       "1   30 votes  1500  \n",
       "2  221 votes   800  \n",
       "3   24 votes   800  \n",
       "4  165 votes   300  "
      ]
     },
     "execution_count": 3,
     "metadata": {},
     "output_type": "execute_result"
    }
   ],
   "source": [
    "train.head()"
   ]
  },
  {
   "cell_type": "code",
   "execution_count": 4,
   "metadata": {},
   "outputs": [
    {
     "data": {
      "text/html": [
       "<div>\n",
       "<style scoped>\n",
       "    .dataframe tbody tr th:only-of-type {\n",
       "        vertical-align: middle;\n",
       "    }\n",
       "\n",
       "    .dataframe tbody tr th {\n",
       "        vertical-align: top;\n",
       "    }\n",
       "\n",
       "    .dataframe thead th {\n",
       "        text-align: right;\n",
       "    }\n",
       "</style>\n",
       "<table border=\"1\" class=\"dataframe\">\n",
       "  <thead>\n",
       "    <tr style=\"text-align: right;\">\n",
       "      <th></th>\n",
       "      <th>TITLE</th>\n",
       "      <th>RESTAURANT_ID</th>\n",
       "      <th>CUISINES</th>\n",
       "      <th>TIME</th>\n",
       "      <th>CITY</th>\n",
       "      <th>LOCALITY</th>\n",
       "      <th>RATING</th>\n",
       "      <th>VOTES</th>\n",
       "    </tr>\n",
       "  </thead>\n",
       "  <tbody>\n",
       "    <tr>\n",
       "      <th>0</th>\n",
       "      <td>CASUAL DINING</td>\n",
       "      <td>4085</td>\n",
       "      <td>North Indian, Chinese, Mughlai, Kebab</td>\n",
       "      <td>12noon – 12midnight (Mon-Sun)</td>\n",
       "      <td>Noida</td>\n",
       "      <td>Sector 18</td>\n",
       "      <td>4.3</td>\n",
       "      <td>564 votes</td>\n",
       "    </tr>\n",
       "    <tr>\n",
       "      <th>1</th>\n",
       "      <td>QUICK BITES</td>\n",
       "      <td>12680</td>\n",
       "      <td>South Indian, Fast Food, Pizza, North Indian</td>\n",
       "      <td>7am – 12:30AM (Mon-Sun)</td>\n",
       "      <td>Mumbai</td>\n",
       "      <td>Grant Road</td>\n",
       "      <td>4.2</td>\n",
       "      <td>61 votes</td>\n",
       "    </tr>\n",
       "    <tr>\n",
       "      <th>2</th>\n",
       "      <td>CASUAL DINING</td>\n",
       "      <td>1411</td>\n",
       "      <td>North Indian, Seafood, Biryani, Chinese</td>\n",
       "      <td>11am – 11:30pm (Mon-Sun)</td>\n",
       "      <td>Mumbai</td>\n",
       "      <td>Marine Lines</td>\n",
       "      <td>3.8</td>\n",
       "      <td>350 votes</td>\n",
       "    </tr>\n",
       "    <tr>\n",
       "      <th>3</th>\n",
       "      <td>None</td>\n",
       "      <td>204</td>\n",
       "      <td>Biryani</td>\n",
       "      <td>9am – 10pm (Mon, Wed, Thu, Fri, Sat, Sun), 10:...</td>\n",
       "      <td>Faridabad</td>\n",
       "      <td>NIT</td>\n",
       "      <td>3.8</td>\n",
       "      <td>1445 votes</td>\n",
       "    </tr>\n",
       "    <tr>\n",
       "      <th>4</th>\n",
       "      <td>QUICK BITES</td>\n",
       "      <td>13453</td>\n",
       "      <td>South Indian, Kerala</td>\n",
       "      <td>11am – 10pm (Mon-Sun)</td>\n",
       "      <td>Kochi</td>\n",
       "      <td>Kaloor</td>\n",
       "      <td>3.6</td>\n",
       "      <td>23 votes</td>\n",
       "    </tr>\n",
       "  </tbody>\n",
       "</table>\n",
       "</div>"
      ],
      "text/plain": [
       "           TITLE  RESTAURANT_ID                                      CUISINES  \\\n",
       "0  CASUAL DINING           4085         North Indian, Chinese, Mughlai, Kebab   \n",
       "1    QUICK BITES          12680  South Indian, Fast Food, Pizza, North Indian   \n",
       "2  CASUAL DINING           1411       North Indian, Seafood, Biryani, Chinese   \n",
       "3           None            204                                       Biryani   \n",
       "4    QUICK BITES          13453                          South Indian, Kerala   \n",
       "\n",
       "                                                TIME       CITY      LOCALITY  \\\n",
       "0                      12noon – 12midnight (Mon-Sun)      Noida     Sector 18   \n",
       "1                            7am – 12:30AM (Mon-Sun)     Mumbai    Grant Road   \n",
       "2                           11am – 11:30pm (Mon-Sun)     Mumbai  Marine Lines   \n",
       "3  9am – 10pm (Mon, Wed, Thu, Fri, Sat, Sun), 10:...  Faridabad           NIT   \n",
       "4                              11am – 10pm (Mon-Sun)      Kochi        Kaloor   \n",
       "\n",
       "  RATING       VOTES  \n",
       "0    4.3   564 votes  \n",
       "1    4.2    61 votes  \n",
       "2    3.8   350 votes  \n",
       "3    3.8  1445 votes  \n",
       "4    3.6    23 votes  "
      ]
     },
     "execution_count": 4,
     "metadata": {},
     "output_type": "execute_result"
    }
   ],
   "source": [
    "test.head()"
   ]
  },
  {
   "cell_type": "code",
   "execution_count": 5,
   "metadata": {},
   "outputs": [
    {
     "data": {
      "text/plain": [
       "((12690, 9), (4231, 8))"
      ]
     },
     "execution_count": 5,
     "metadata": {},
     "output_type": "execute_result"
    }
   ],
   "source": [
    "train.shape,test.shape"
   ]
  },
  {
   "cell_type": "code",
   "execution_count": 6,
   "metadata": {},
   "outputs": [
    {
     "name": "stdout",
     "output_type": "stream",
     "text": [
      "<class 'pandas.core.frame.DataFrame'>\n",
      "RangeIndex: 12690 entries, 0 to 12689\n",
      "Data columns (total 9 columns):\n",
      " #   Column         Non-Null Count  Dtype \n",
      "---  ------         --------------  ----- \n",
      " 0   TITLE          12690 non-null  object\n",
      " 1   RESTAURANT_ID  12690 non-null  int64 \n",
      " 2   CUISINES       12690 non-null  object\n",
      " 3   TIME           12690 non-null  object\n",
      " 4   CITY           12578 non-null  object\n",
      " 5   LOCALITY       12592 non-null  object\n",
      " 6   RATING         12688 non-null  object\n",
      " 7   VOTES          11486 non-null  object\n",
      " 8   COST           12690 non-null  int64 \n",
      "dtypes: int64(2), object(7)\n",
      "memory usage: 892.4+ KB\n"
     ]
    }
   ],
   "source": [
    "train.info()"
   ]
  },
  {
   "cell_type": "code",
   "execution_count": 7,
   "metadata": {},
   "outputs": [
    {
     "name": "stdout",
     "output_type": "stream",
     "text": [
      "<class 'pandas.core.frame.DataFrame'>\n",
      "RangeIndex: 4231 entries, 0 to 4230\n",
      "Data columns (total 8 columns):\n",
      " #   Column         Non-Null Count  Dtype \n",
      "---  ------         --------------  ----- \n",
      " 0   TITLE          4231 non-null   object\n",
      " 1   RESTAURANT_ID  4231 non-null   int64 \n",
      " 2   CUISINES       4231 non-null   object\n",
      " 3   TIME           4231 non-null   object\n",
      " 4   CITY           4196 non-null   object\n",
      " 5   LOCALITY       4201 non-null   object\n",
      " 6   RATING         4229 non-null   object\n",
      " 7   VOTES          3829 non-null   object\n",
      "dtypes: int64(1), object(7)\n",
      "memory usage: 264.6+ KB\n"
     ]
    }
   ],
   "source": [
    "test.info()"
   ]
  },
  {
   "cell_type": "code",
   "execution_count": 8,
   "metadata": {},
   "outputs": [
    {
     "data": {
      "text/plain": [
       "TITLE              113\n",
       "RESTAURANT_ID    11892\n",
       "CUISINES          4155\n",
       "TIME              2689\n",
       "CITY               359\n",
       "LOCALITY          1416\n",
       "RATING              32\n",
       "VOTES             1847\n",
       "COST                86\n",
       "dtype: int64"
      ]
     },
     "execution_count": 8,
     "metadata": {},
     "output_type": "execute_result"
    }
   ],
   "source": [
    "train.nunique()"
   ]
  },
  {
   "cell_type": "code",
   "execution_count": 9,
   "metadata": {},
   "outputs": [
    {
     "data": {
      "text/plain": [
       "TITLE              86\n",
       "RESTAURANT_ID    4127\n",
       "CUISINES         1727\n",
       "TIME             1183\n",
       "CITY              151\n",
       "LOCALITY          834\n",
       "RATING             31\n",
       "VOTES            1136\n",
       "dtype: int64"
      ]
     },
     "execution_count": 9,
     "metadata": {},
     "output_type": "execute_result"
    }
   ],
   "source": [
    "test.nunique()"
   ]
  },
  {
   "cell_type": "code",
   "execution_count": 10,
   "metadata": {},
   "outputs": [
    {
     "data": {
      "text/plain": [
       "Index(['TITLE', 'RESTAURANT_ID', 'CUISINES', 'TIME', 'CITY', 'LOCALITY',\n",
       "       'RATING', 'VOTES', 'COST'],\n",
       "      dtype='object')"
      ]
     },
     "execution_count": 10,
     "metadata": {},
     "output_type": "execute_result"
    }
   ],
   "source": [
    "train.columns"
   ]
  },
  {
   "cell_type": "code",
   "execution_count": 11,
   "metadata": {},
   "outputs": [
    {
     "data": {
      "text/plain": [
       "Index(['TITLE', 'RESTAURANT_ID', 'CUISINES', 'TIME', 'CITY', 'LOCALITY',\n",
       "       'RATING', 'VOTES'],\n",
       "      dtype='object')"
      ]
     },
     "execution_count": 11,
     "metadata": {},
     "output_type": "execute_result"
    }
   ],
   "source": [
    "test.columns"
   ]
  },
  {
   "cell_type": "code",
   "execution_count": 12,
   "metadata": {},
   "outputs": [
    {
     "data": {
      "text/plain": [
       "TITLE               0\n",
       "RESTAURANT_ID       0\n",
       "CUISINES            0\n",
       "TIME                0\n",
       "CITY              112\n",
       "LOCALITY           98\n",
       "RATING              2\n",
       "VOTES            1204\n",
       "COST                0\n",
       "dtype: int64"
      ]
     },
     "execution_count": 12,
     "metadata": {},
     "output_type": "execute_result"
    }
   ],
   "source": [
    "train.isnull().sum()"
   ]
  },
  {
   "cell_type": "code",
   "execution_count": 13,
   "metadata": {},
   "outputs": [
    {
     "data": {
      "text/plain": [
       "TITLE              0\n",
       "RESTAURANT_ID      0\n",
       "CUISINES           0\n",
       "TIME               0\n",
       "CITY              35\n",
       "LOCALITY          30\n",
       "RATING             2\n",
       "VOTES            402\n",
       "dtype: int64"
      ]
     },
     "execution_count": 13,
     "metadata": {},
     "output_type": "execute_result"
    }
   ],
   "source": [
    "test.isnull().sum()"
   ]
  },
  {
   "cell_type": "code",
   "execution_count": 14,
   "metadata": {},
   "outputs": [
    {
     "data": {
      "text/plain": [
       "<matplotlib.axes._subplots.AxesSubplot at 0x1a1d94e3d88>"
      ]
     },
     "execution_count": 14,
     "metadata": {},
     "output_type": "execute_result"
    },
    {
     "data": {
      "image/png": "[encoded data removed]",
      "text/plain": [
       "<Figure size 432x288 with 1 Axes>"
      ]
     },
     "metadata": {
      "needs_background": "light"
     },
     "output_type": "display_data"
    }
   ],
   "source": [
    "train.groupby(['RATING'])['COST'].mean().plot(kind='bar')"
   ]
  },
  {
   "cell_type": "code",
   "execution_count": 15,
   "metadata": {},
   "outputs": [
    {
     "data": {
      "text/plain": [
       "<matplotlib.axes._subplots.AxesSubplot at 0x1a1d955abc8>"
      ]
     },
     "execution_count": 15,
     "metadata": {},
     "output_type": "execute_result"
    },
    {
     "data": {
      "image/png": "[encoded data removed]",
      "text/plain": [
       "<Figure size 432x288 with 1 Axes>"
      ]
     },
     "metadata": {
      "needs_background": "light"
     },
     "output_type": "display_data"
    }
   ],
   "source": [
    "train.groupby(['RATING'])['COST'].sum().plot(kind='bar')"
   ]
  },
  {
   "cell_type": "code",
   "execution_count": 16,
   "metadata": {},
   "outputs": [],
   "source": [
    "train['TIME'] = train['TIME'].str.replace(r'Closed \\(.*?\\)','')"
   ]
  },
  {
   "cell_type": "code",
   "execution_count": 17,
   "metadata": {},
   "outputs": [],
   "source": [
    "train['RATING'] =train['RATING'].str.replace('NEW', '1')\n",
    "train['RATING'] = train['RATING'].str.replace('-', '1').astype(float)"
   ]
  },
  {
   "cell_type": "code",
   "execution_count": 18,
   "metadata": {},
   "outputs": [],
   "source": [
    "train['VOTES'] = train['VOTES'].str.replace(' votes', '').astype(float)"
   ]
  },
  {
   "cell_type": "code",
   "execution_count": 19,
   "metadata": {},
   "outputs": [],
   "source": [
    "train['CITY'].fillna('Missing', inplace=True)  \n",
    "train['LOCALITY'].fillna('Missing', inplace=True)  \n",
    "train['RATING'].fillna(3.8, inplace=True)  \n",
    "train['VOTES'].fillna(0, inplace=True)"
   ]
  },
  {
   "cell_type": "code",
   "execution_count": 20,
   "metadata": {},
   "outputs": [],
   "source": [
    "train['COST'] =train['COST'].astype(float)"
   ]
  },
  {
   "cell_type": "code",
   "execution_count": 21,
   "metadata": {},
   "outputs": [
    {
     "data": {
      "text/html": [
       "<div>\n",
       "<style scoped>\n",
       "    .dataframe tbody tr th:only-of-type {\n",
       "        vertical-align: middle;\n",
       "    }\n",
       "\n",
       "    .dataframe tbody tr th {\n",
       "        vertical-align: top;\n",
       "    }\n",
       "\n",
       "    .dataframe thead th {\n",
       "        text-align: right;\n",
       "    }\n",
       "</style>\n",
       "<table border=\"1\" class=\"dataframe\">\n",
       "  <thead>\n",
       "    <tr style=\"text-align: right;\">\n",
       "      <th></th>\n",
       "      <th>TITLE</th>\n",
       "      <th>RESTAURANT_ID</th>\n",
       "      <th>CUISINES</th>\n",
       "      <th>TIME</th>\n",
       "      <th>CITY</th>\n",
       "      <th>LOCALITY</th>\n",
       "      <th>RATING</th>\n",
       "      <th>VOTES</th>\n",
       "      <th>COST</th>\n",
       "    </tr>\n",
       "  </thead>\n",
       "  <tbody>\n",
       "    <tr>\n",
       "      <th>0</th>\n",
       "      <td>CASUAL DINING</td>\n",
       "      <td>9438</td>\n",
       "      <td>Malwani, Goan, North Indian</td>\n",
       "      <td>11am – 4pm, 7:30pm – 11:30pm (Mon-Sun)</td>\n",
       "      <td>Thane</td>\n",
       "      <td>Dombivali East</td>\n",
       "      <td>3.6</td>\n",
       "      <td>49.0</td>\n",
       "      <td>1200.0</td>\n",
       "    </tr>\n",
       "    <tr>\n",
       "      <th>1</th>\n",
       "      <td>CASUAL DINING,BAR</td>\n",
       "      <td>13198</td>\n",
       "      <td>Asian, Modern Indian, Japanese</td>\n",
       "      <td>6pm – 11pm (Mon-Sun)</td>\n",
       "      <td>Chennai</td>\n",
       "      <td>Ramapuram</td>\n",
       "      <td>4.2</td>\n",
       "      <td>30.0</td>\n",
       "      <td>1500.0</td>\n",
       "    </tr>\n",
       "    <tr>\n",
       "      <th>2</th>\n",
       "      <td>CASUAL DINING</td>\n",
       "      <td>10915</td>\n",
       "      <td>North Indian, Chinese, Biryani, Hyderabadi</td>\n",
       "      <td>11am – 3:30pm, 7pm – 11pm (Mon-Sun)</td>\n",
       "      <td>Chennai</td>\n",
       "      <td>Saligramam</td>\n",
       "      <td>3.8</td>\n",
       "      <td>221.0</td>\n",
       "      <td>800.0</td>\n",
       "    </tr>\n",
       "    <tr>\n",
       "      <th>3</th>\n",
       "      <td>QUICK BITES</td>\n",
       "      <td>6346</td>\n",
       "      <td>Tibetan, Chinese</td>\n",
       "      <td>11:30am – 1am (Mon-Sun)</td>\n",
       "      <td>Mumbai</td>\n",
       "      <td>Bandra West</td>\n",
       "      <td>4.1</td>\n",
       "      <td>24.0</td>\n",
       "      <td>800.0</td>\n",
       "    </tr>\n",
       "    <tr>\n",
       "      <th>4</th>\n",
       "      <td>DESSERT PARLOR</td>\n",
       "      <td>15387</td>\n",
       "      <td>Desserts</td>\n",
       "      <td>11am – 1am (Mon-Sun)</td>\n",
       "      <td>Mumbai</td>\n",
       "      <td>Lower Parel</td>\n",
       "      <td>3.8</td>\n",
       "      <td>165.0</td>\n",
       "      <td>300.0</td>\n",
       "    </tr>\n",
       "  </tbody>\n",
       "</table>\n",
       "</div>"
      ],
      "text/plain": [
       "               TITLE  RESTAURANT_ID  \\\n",
       "0      CASUAL DINING           9438   \n",
       "1  CASUAL DINING,BAR          13198   \n",
       "2      CASUAL DINING          10915   \n",
       "3        QUICK BITES           6346   \n",
       "4     DESSERT PARLOR          15387   \n",
       "\n",
       "                                     CUISINES  \\\n",
       "0                 Malwani, Goan, North Indian   \n",
       "1              Asian, Modern Indian, Japanese   \n",
       "2  North Indian, Chinese, Biryani, Hyderabadi   \n",
       "3                            Tibetan, Chinese   \n",
       "4                                    Desserts   \n",
       "\n",
       "                                     TIME     CITY        LOCALITY  RATING  \\\n",
       "0  11am – 4pm, 7:30pm – 11:30pm (Mon-Sun)    Thane  Dombivali East     3.6   \n",
       "1                    6pm – 11pm (Mon-Sun)  Chennai       Ramapuram     4.2   \n",
       "2     11am – 3:30pm, 7pm – 11pm (Mon-Sun)  Chennai      Saligramam     3.8   \n",
       "3                 11:30am – 1am (Mon-Sun)   Mumbai     Bandra West     4.1   \n",
       "4                    11am – 1am (Mon-Sun)   Mumbai     Lower Parel     3.8   \n",
       "\n",
       "   VOTES    COST  \n",
       "0   49.0  1200.0  \n",
       "1   30.0  1500.0  \n",
       "2  221.0   800.0  \n",
       "3   24.0   800.0  \n",
       "4  165.0   300.0  "
      ]
     },
     "execution_count": 21,
     "metadata": {},
     "output_type": "execute_result"
    }
   ],
   "source": [
    "train.head()"
   ]
  },
  {
   "cell_type": "code",
   "execution_count": 22,
   "metadata": {},
   "outputs": [
    {
     "data": {
      "text/plain": [
       "(113, 4155)"
      ]
     },
     "execution_count": 22,
     "metadata": {},
     "output_type": "execute_result"
    }
   ],
   "source": [
    "train['TITLE'].nunique(), train['CUISINES'].nunique()"
   ]
  },
  {
   "cell_type": "code",
   "execution_count": 23,
   "metadata": {},
   "outputs": [],
   "source": [
    "train['title_rat'] = train['TITLE'].map(train.groupby('TITLE')['RATING'].mean())\n",
    "train['title_rat_C'] = train['TITLE'].map(train.groupby('TITLE')['RATING'].count())\n",
    "train['city_rat'] = train['CITY'].map(train.groupby('CITY')['RATING'].mean())\n",
    "train['city_rat_C'] = train['CITY'].map(train.groupby('CITY')['RATING'].count())\n",
    "train['cuisine_rat'] = train['CUISINES'].map(train.groupby('CUISINES')['RATING'].mean())\n",
    "train['cuisine_rat_C'] = train['CUISINES'].map(train.groupby('CUISINES')['RATING'].count())"
   ]
  },
  {
   "cell_type": "code",
   "execution_count": 24,
   "metadata": {},
   "outputs": [],
   "source": [
    "train['rest_id'] = train['RESTAURANT_ID'].map(train.groupby('RESTAURANT_ID')['RATING'].count())"
   ]
  },
  {
   "cell_type": "code",
   "execution_count": 25,
   "metadata": {},
   "outputs": [],
   "source": [
    "train['title_rat_sum'] =train['TITLE'].map(train.groupby('TITLE')['RATING'].sum())\n",
    "train['title_rat_C_sum'] = train['TITLE'].map(train.groupby('TITLE')['RATING'].sum())\n",
    "train['city_rat_sum'] = train['CITY'].map(train.groupby('CITY')['RATING'].sum())\n",
    "train['city_rat_C_sum'] = train['CITY'].map(train.groupby('CITY')['RATING'].sum())\n",
    "train['cuisine_rat_sum'] = train['CUISINES'].map(train.groupby('CUISINES')['RATING'].sum())\n",
    "train['cuisine_rat_C_sum'] = train['CUISINES'].map(train.groupby('CUISINES')['RATING'].sum())"
   ]
  },
  {
   "cell_type": "code",
   "execution_count": 26,
   "metadata": {},
   "outputs": [
    {
     "data": {
      "text/plain": [
       "TITLE                 object\n",
       "RESTAURANT_ID          int64\n",
       "CUISINES              object\n",
       "TIME                  object\n",
       "CITY                  object\n",
       "LOCALITY              object\n",
       "RATING               float64\n",
       "VOTES                float64\n",
       "COST                 float64\n",
       "title_rat            float64\n",
       "title_rat_C            int64\n",
       "city_rat             float64\n",
       "city_rat_C             int64\n",
       "cuisine_rat          float64\n",
       "cuisine_rat_C          int64\n",
       "rest_id                int64\n",
       "title_rat_sum        float64\n",
       "title_rat_C_sum      float64\n",
       "city_rat_sum         float64\n",
       "city_rat_C_sum       float64\n",
       "cuisine_rat_sum      float64\n",
       "cuisine_rat_C_sum    float64\n",
       "dtype: object"
      ]
     },
     "execution_count": 26,
     "metadata": {},
     "output_type": "execute_result"
    }
   ],
   "source": [
    "train.dtypes"
   ]
  },
  {
   "cell_type": "code",
   "execution_count": 27,
   "metadata": {},
   "outputs": [],
   "source": [
    "test['TIME'] =test['TIME'].str.replace(r'Closed \\(.*?\\)','')"
   ]
  },
  {
   "cell_type": "code",
   "execution_count": 28,
   "metadata": {},
   "outputs": [],
   "source": [
    "test['RATING'] =test['RATING'].str.replace('NEW', '1')\n",
    "test['RATING'] = test['RATING'].str.replace('-', '1').astype(float)"
   ]
  },
  {
   "cell_type": "code",
   "execution_count": 29,
   "metadata": {},
   "outputs": [],
   "source": [
    "test['VOTES'] = test['VOTES'].str.replace(' votes', '').astype(float)"
   ]
  },
  {
   "cell_type": "code",
   "execution_count": 30,
   "metadata": {},
   "outputs": [],
   "source": [
    "test['CITY'].fillna('Missing', inplace=True)  \n",
    "test['LOCALITY'].fillna('Missing', inplace=True)  \n",
    "test['RATING'].fillna(3.8, inplace=True)  \n",
    "test['VOTES'].fillna(0, inplace=True)"
   ]
  },
  {
   "cell_type": "code",
   "execution_count": 31,
   "metadata": {},
   "outputs": [
    {
     "data": {
      "text/html": [
       "<div>\n",
       "<style scoped>\n",
       "    .dataframe tbody tr th:only-of-type {\n",
       "        vertical-align: middle;\n",
       "    }\n",
       "\n",
       "    .dataframe tbody tr th {\n",
       "        vertical-align: top;\n",
       "    }\n",
       "\n",
       "    .dataframe thead th {\n",
       "        text-align: right;\n",
       "    }\n",
       "</style>\n",
       "<table border=\"1\" class=\"dataframe\">\n",
       "  <thead>\n",
       "    <tr style=\"text-align: right;\">\n",
       "      <th></th>\n",
       "      <th>TITLE</th>\n",
       "      <th>RESTAURANT_ID</th>\n",
       "      <th>CUISINES</th>\n",
       "      <th>TIME</th>\n",
       "      <th>CITY</th>\n",
       "      <th>LOCALITY</th>\n",
       "      <th>RATING</th>\n",
       "      <th>VOTES</th>\n",
       "    </tr>\n",
       "  </thead>\n",
       "  <tbody>\n",
       "    <tr>\n",
       "      <th>0</th>\n",
       "      <td>CASUAL DINING</td>\n",
       "      <td>4085</td>\n",
       "      <td>North Indian, Chinese, Mughlai, Kebab</td>\n",
       "      <td>12noon – 12midnight (Mon-Sun)</td>\n",
       "      <td>Noida</td>\n",
       "      <td>Sector 18</td>\n",
       "      <td>4.3</td>\n",
       "      <td>564.0</td>\n",
       "    </tr>\n",
       "    <tr>\n",
       "      <th>1</th>\n",
       "      <td>QUICK BITES</td>\n",
       "      <td>12680</td>\n",
       "      <td>South Indian, Fast Food, Pizza, North Indian</td>\n",
       "      <td>7am – 12:30AM (Mon-Sun)</td>\n",
       "      <td>Mumbai</td>\n",
       "      <td>Grant Road</td>\n",
       "      <td>4.2</td>\n",
       "      <td>61.0</td>\n",
       "    </tr>\n",
       "    <tr>\n",
       "      <th>2</th>\n",
       "      <td>CASUAL DINING</td>\n",
       "      <td>1411</td>\n",
       "      <td>North Indian, Seafood, Biryani, Chinese</td>\n",
       "      <td>11am – 11:30pm (Mon-Sun)</td>\n",
       "      <td>Mumbai</td>\n",
       "      <td>Marine Lines</td>\n",
       "      <td>3.8</td>\n",
       "      <td>350.0</td>\n",
       "    </tr>\n",
       "    <tr>\n",
       "      <th>3</th>\n",
       "      <td>None</td>\n",
       "      <td>204</td>\n",
       "      <td>Biryani</td>\n",
       "      <td>9am – 10pm (Mon, Wed, Thu, Fri, Sat, Sun), 10:...</td>\n",
       "      <td>Faridabad</td>\n",
       "      <td>NIT</td>\n",
       "      <td>3.8</td>\n",
       "      <td>1445.0</td>\n",
       "    </tr>\n",
       "    <tr>\n",
       "      <th>4</th>\n",
       "      <td>QUICK BITES</td>\n",
       "      <td>13453</td>\n",
       "      <td>South Indian, Kerala</td>\n",
       "      <td>11am – 10pm (Mon-Sun)</td>\n",
       "      <td>Kochi</td>\n",
       "      <td>Kaloor</td>\n",
       "      <td>3.6</td>\n",
       "      <td>23.0</td>\n",
       "    </tr>\n",
       "  </tbody>\n",
       "</table>\n",
       "</div>"
      ],
      "text/plain": [
       "           TITLE  RESTAURANT_ID                                      CUISINES  \\\n",
       "0  CASUAL DINING           4085         North Indian, Chinese, Mughlai, Kebab   \n",
       "1    QUICK BITES          12680  South Indian, Fast Food, Pizza, North Indian   \n",
       "2  CASUAL DINING           1411       North Indian, Seafood, Biryani, Chinese   \n",
       "3           None            204                                       Biryani   \n",
       "4    QUICK BITES          13453                          South Indian, Kerala   \n",
       "\n",
       "                                                TIME       CITY      LOCALITY  \\\n",
       "0                      12noon – 12midnight (Mon-Sun)      Noida     Sector 18   \n",
       "1                            7am – 12:30AM (Mon-Sun)     Mumbai    Grant Road   \n",
       "2                           11am – 11:30pm (Mon-Sun)     Mumbai  Marine Lines   \n",
       "3  9am – 10pm (Mon, Wed, Thu, Fri, Sat, Sun), 10:...  Faridabad           NIT   \n",
       "4                              11am – 10pm (Mon-Sun)      Kochi        Kaloor   \n",
       "\n",
       "   RATING   VOTES  \n",
       "0     4.3   564.0  \n",
       "1     4.2    61.0  \n",
       "2     3.8   350.0  \n",
       "3     3.8  1445.0  \n",
       "4     3.6    23.0  "
      ]
     },
     "execution_count": 31,
     "metadata": {},
     "output_type": "execute_result"
    }
   ],
   "source": [
    "test.head()"
   ]
  },
  {
   "cell_type": "code",
   "execution_count": 32,
   "metadata": {},
   "outputs": [],
   "source": [
    "test['title_rat'] = test['TITLE'].map(test.groupby('TITLE')['RATING'].mean())\n",
    "test['title_rat_C'] = test['TITLE'].map(test.groupby('TITLE')['RATING'].count())\n",
    "test['city_rat'] = test['CITY'].map(test.groupby('CITY')['RATING'].mean())\n",
    "test['city_rat_C'] = test['CITY'].map(test.groupby('CITY')['RATING'].count())\n",
    "test['cuisine_rat'] = test['CUISINES'].map(test.groupby('CUISINES')['RATING'].mean())\n",
    "test['cuisine_rat_C'] = test['CUISINES'].map(test.groupby('CUISINES')['RATING'].count())"
   ]
  },
  {
   "cell_type": "code",
   "execution_count": 33,
   "metadata": {},
   "outputs": [],
   "source": [
    "test['rest_id'] = test['RESTAURANT_ID'].map(test.groupby('RESTAURANT_ID')['RATING'].count())"
   ]
  },
  {
   "cell_type": "code",
   "execution_count": 34,
   "metadata": {},
   "outputs": [],
   "source": [
    "test['title_rat_sum'] =test['TITLE'].map(test.groupby('TITLE')['RATING'].sum())\n",
    "test['title_rat_C_sum'] = test['TITLE'].map(test.groupby('TITLE')['RATING'].sum())\n",
    "test['city_rat_sum'] = test['CITY'].map(test.groupby('CITY')['RATING'].sum())\n",
    "test['city_rat_C_sum'] = test['CITY'].map(test.groupby('CITY')['RATING'].sum())\n",
    "test['cuisine_rat_sum'] = test['CUISINES'].map(test.groupby('CUISINES')['RATING'].sum())\n",
    "test['cuisine_rat_C_sum'] = test['CUISINES'].map(test.groupby('CUISINES')['RATING'].sum())"
   ]
  },
  {
   "cell_type": "code",
   "execution_count": 35,
   "metadata": {},
   "outputs": [
    {
     "data": {
      "text/plain": [
       "TITLE                 object\n",
       "RESTAURANT_ID          int64\n",
       "CUISINES              object\n",
       "TIME                  object\n",
       "CITY                  object\n",
       "LOCALITY              object\n",
       "RATING               float64\n",
       "VOTES                float64\n",
       "title_rat            float64\n",
       "title_rat_C            int64\n",
       "city_rat             float64\n",
       "city_rat_C             int64\n",
       "cuisine_rat          float64\n",
       "cuisine_rat_C          int64\n",
       "rest_id                int64\n",
       "title_rat_sum        float64\n",
       "title_rat_C_sum      float64\n",
       "city_rat_sum         float64\n",
       "city_rat_C_sum       float64\n",
       "cuisine_rat_sum      float64\n",
       "cuisine_rat_C_sum    float64\n",
       "dtype: object"
      ]
     },
     "execution_count": 35,
     "metadata": {},
     "output_type": "execute_result"
    }
   ],
   "source": [
    "test.dtypes"
   ]
  },
  {
   "cell_type": "code",
   "execution_count": 36,
   "metadata": {},
   "outputs": [],
   "source": [
    "y = train.iloc[:, 1]"
   ]
  },
  {
   "cell_type": "code",
   "execution_count": 37,
   "metadata": {},
   "outputs": [],
   "source": [
    "x= train.iloc[:,train.columns!='COST'].values"
   ]
  },
  {
   "cell_type": "code",
   "execution_count": 38,
   "metadata": {},
   "outputs": [],
   "source": [
    "from sklearn.preprocessing import OrdinalEncoder\n",
    "# Encoding\n",
    "enc = OrdinalEncoder()\n",
    "x= enc.fit_transform(x)"
   ]
  },
  {
   "cell_type": "code",
   "execution_count": 39,
   "metadata": {},
   "outputs": [],
   "source": [
    "from sklearn.preprocessing import StandardScaler\n",
    "sc=StandardScaler()\n",
    "x =sc.fit_transform(x)"
   ]
  },
  {
   "cell_type": "code",
   "execution_count": 40,
   "metadata": {},
   "outputs": [
    {
     "data": {
      "text/plain": [
       "array([[-0.86888688,  0.36693474,  0.32540837, ..., -0.54030454,\n",
       "        -1.35190851, -1.35190851],\n",
       "       [-0.80783894,  1.20653238, -1.61638078, ...,  0.36203455,\n",
       "        -1.31659067, -1.31659067],\n",
       "       [-0.86888688,  0.70318207,  0.61526483, ...,  0.36203455,\n",
       "        -1.08702469, -1.08702469],\n",
       "       ...,\n",
       "       [ 0.35207201,  0.75246724, -0.12224961, ..., -0.29421206,\n",
       "        -1.32836328, -1.32836328],\n",
       "       [-0.86888688, -0.35571999,  1.055448  , ...,  0.36203455,\n",
       "        -0.31591844, -0.31591844],\n",
       "       [-0.86888688, -0.2906869 ,  0.59034881, ...,  0.28000372,\n",
       "         1.02615962,  1.02615962]])"
      ]
     },
     "execution_count": 40,
     "metadata": {},
     "output_type": "execute_result"
    }
   ],
   "source": [
    "x"
   ]
  },
  {
   "cell_type": "code",
   "execution_count": 62,
   "metadata": {},
   "outputs": [],
   "source": [
    "from sklearn.model_selection import train_test_split\n",
    "from sklearn.metrics import r2_score,mean_absolute_error,mean_squared_error\n",
    "from sklearn import linear_model\n",
    "def maxr2_score(regr,x,y):\n",
    "    max_r_score=0\n",
    "    for r_state in range(42,100):\n",
    "        x_train, x_test, y_train, y_test = train_test_split(x,y,random_state=r_state,test_size=0.20)\n",
    "        regr.fit(x_train,y_train)\n",
    "        y_pred=regr.predict(x_test)\n",
    "        r2_scr=r2_score(y_test,y_pred)\n",
    "        print('r2_score corresponding to random state:',r_state,'is',r2_scr)\n",
    "        if r2_scr>max_r_score:\n",
    "            max_r_score=r2_scr\n",
    "            final_r_state=r_state\n",
    "\n",
    "    print('max r2 score corresponding to',final_r_state,'is:',max_r_score)\n",
    "    return final_r_state"
   ]
  },
  {
   "cell_type": "code",
   "execution_count": 63,
   "metadata": {
    "scrolled": true
   },
   "outputs": [
    {
     "name": "stdout",
     "output_type": "stream",
     "text": [
      "r2_score corresponding to random state: 42 is 0.9999882526085969\n",
      "r2_score corresponding to random state: 43 is 0.999987483413577\n",
      "r2_score corresponding to random state: 44 is 0.9999879650315089\n",
      "r2_score corresponding to random state: 45 is 0.9999875645023\n",
      "r2_score corresponding to random state: 46 is 0.9999877233492194\n",
      "r2_score corresponding to random state: 47 is 0.9999879458309275\n",
      "r2_score corresponding to random state: 48 is 0.9999878632470783\n",
      "r2_score corresponding to random state: 49 is 0.9999879472729146\n",
      "r2_score corresponding to random state: 50 is 0.9999877758291866\n",
      "r2_score corresponding to random state: 51 is 0.9999875539532294\n",
      "r2_score corresponding to random state: 52 is 0.9999889977809909\n",
      "r2_score corresponding to random state: 53 is 0.9999879072382388\n",
      "r2_score corresponding to random state: 54 is 0.9999887488680862\n",
      "r2_score corresponding to random state: 55 is 0.999987789445673\n",
      "r2_score corresponding to random state: 56 is 0.9999884807621487\n",
      "r2_score corresponding to random state: 57 is 0.9999875860031621\n",
      "r2_score corresponding to random state: 58 is 0.9999882709062405\n",
      "r2_score corresponding to random state: 59 is 0.9999881279286974\n",
      "r2_score corresponding to random state: 60 is 0.9999873104419323\n",
      "r2_score corresponding to random state: 61 is 0.999988550107568\n",
      "r2_score corresponding to random state: 62 is 0.9999879505755234\n",
      "r2_score corresponding to random state: 63 is 0.9999885634367274\n",
      "r2_score corresponding to random state: 64 is 0.9999878807811022\n",
      "r2_score corresponding to random state: 65 is 0.9999873475302445\n",
      "r2_score corresponding to random state: 66 is 0.9999881193857437\n",
      "r2_score corresponding to random state: 67 is 0.9999875922599435\n",
      "r2_score corresponding to random state: 68 is 0.9999873929497123\n",
      "r2_score corresponding to random state: 69 is 0.9999868012206214\n",
      "r2_score corresponding to random state: 70 is 0.9999882430613958\n",
      "r2_score corresponding to random state: 71 is 0.9999882491958862\n",
      "r2_score corresponding to random state: 72 is 0.9999880757026166\n",
      "r2_score corresponding to random state: 73 is 0.9999877525469917\n",
      "r2_score corresponding to random state: 74 is 0.9999879814812962\n",
      "r2_score corresponding to random state: 75 is 0.9999875218156172\n",
      "r2_score corresponding to random state: 76 is 0.9999876623277353\n",
      "r2_score corresponding to random state: 77 is 0.9999877577670699\n",
      "r2_score corresponding to random state: 78 is 0.9999886703690205\n",
      "r2_score corresponding to random state: 79 is 0.999987964377363\n",
      "r2_score corresponding to random state: 80 is 0.9999879496639983\n",
      "r2_score corresponding to random state: 81 is 0.9999882871648127\n",
      "r2_score corresponding to random state: 82 is 0.9999872194454861\n",
      "r2_score corresponding to random state: 83 is 0.9999882347675703\n",
      "r2_score corresponding to random state: 84 is 0.9999870128628376\n",
      "r2_score corresponding to random state: 85 is 0.999987688243313\n",
      "r2_score corresponding to random state: 86 is 0.9999880967528114\n",
      "r2_score corresponding to random state: 87 is 0.9999877101043252\n",
      "r2_score corresponding to random state: 88 is 0.9999878027266479\n",
      "r2_score corresponding to random state: 89 is 0.9999875515975554\n",
      "r2_score corresponding to random state: 90 is 0.9999884965754113\n",
      "r2_score corresponding to random state: 91 is 0.9999876879664171\n",
      "r2_score corresponding to random state: 92 is 0.9999878950958061\n",
      "r2_score corresponding to random state: 93 is 0.9999884109949417\n",
      "r2_score corresponding to random state: 94 is 0.999987891257874\n",
      "r2_score corresponding to random state: 95 is 0.9999869965307915\n",
      "r2_score corresponding to random state: 96 is 0.9999880024201402\n",
      "r2_score corresponding to random state: 97 is 0.9999874074896506\n",
      "r2_score corresponding to random state: 98 is 0.9999877489513601\n",
      "r2_score corresponding to random state: 99 is 0.9999878583261052\n",
      "max r2 score corresponding to 52 is: 0.9999889977809909\n"
     ]
    }
   ],
   "source": [
    "#lets use Linear Regression and check max_r2_score\n",
    "from sklearn.linear_model import LinearRegression\n",
    "lreg=LinearRegression()\n",
    "r_state=maxr2_score(lreg,x,y)"
   ]
  },
  {
   "cell_type": "code",
   "execution_count": 64,
   "metadata": {},
   "outputs": [
    {
     "data": {
      "text/plain": [
       "{'n_neighbors': 8}"
      ]
     },
     "execution_count": 64,
     "metadata": {},
     "output_type": "execute_result"
    }
   ],
   "source": [
    "from sklearn.model_selection import GridSearchCV\n",
    "from sklearn.neighbors import KNeighborsRegressor\n",
    "neighbors={'n_neighbors':range(1,30)}\n",
    "knr=KNeighborsRegressor()\n",
    "gknr=GridSearchCV(knr,neighbors,cv=10)\n",
    "gknr.fit(x,y)\n",
    "gknr.best_params_"
   ]
  },
  {
   "cell_type": "code",
   "execution_count": 65,
   "metadata": {
    "scrolled": true
   },
   "outputs": [
    {
     "name": "stdout",
     "output_type": "stream",
     "text": [
      "r2_score corresponding to random state: 42 is 0.8722490034158319\n",
      "r2_score corresponding to random state: 43 is 0.865281394748228\n",
      "r2_score corresponding to random state: 44 is 0.8670884949819836\n",
      "r2_score corresponding to random state: 45 is 0.8716691475376338\n",
      "r2_score corresponding to random state: 46 is 0.8590902895635876\n",
      "r2_score corresponding to random state: 47 is 0.8639880914142719\n",
      "r2_score corresponding to random state: 48 is 0.870644043548083\n",
      "r2_score corresponding to random state: 49 is 0.8706032176568378\n",
      "r2_score corresponding to random state: 50 is 0.8643217200326\n",
      "r2_score corresponding to random state: 51 is 0.8659429383422661\n",
      "r2_score corresponding to random state: 52 is 0.8687457071862064\n",
      "r2_score corresponding to random state: 53 is 0.8663092454494075\n",
      "r2_score corresponding to random state: 54 is 0.8680068668882408\n",
      "r2_score corresponding to random state: 55 is 0.8666823984206689\n",
      "r2_score corresponding to random state: 56 is 0.862079151901607\n",
      "r2_score corresponding to random state: 57 is 0.8719148012755228\n",
      "r2_score corresponding to random state: 58 is 0.8666504430624489\n",
      "r2_score corresponding to random state: 59 is 0.8635685036576066\n",
      "r2_score corresponding to random state: 60 is 0.8662346414260979\n",
      "r2_score corresponding to random state: 61 is 0.8711976179430696\n",
      "r2_score corresponding to random state: 62 is 0.8706871675935044\n",
      "r2_score corresponding to random state: 63 is 0.8696601847876793\n",
      "r2_score corresponding to random state: 64 is 0.8612568073947673\n",
      "r2_score corresponding to random state: 65 is 0.8707257531482406\n",
      "r2_score corresponding to random state: 66 is 0.8627673348786236\n",
      "r2_score corresponding to random state: 67 is 0.8710728604508597\n",
      "r2_score corresponding to random state: 68 is 0.8624964513126032\n",
      "r2_score corresponding to random state: 69 is 0.8610137069194377\n",
      "r2_score corresponding to random state: 70 is 0.8674085051157892\n",
      "r2_score corresponding to random state: 71 is 0.8664332974265896\n",
      "r2_score corresponding to random state: 72 is 0.8755867548774245\n",
      "r2_score corresponding to random state: 73 is 0.8668478036181485\n",
      "r2_score corresponding to random state: 74 is 0.86692907315266\n",
      "r2_score corresponding to random state: 75 is 0.869196368264922\n",
      "r2_score corresponding to random state: 76 is 0.8724830904938623\n",
      "r2_score corresponding to random state: 77 is 0.8690166365593257\n",
      "r2_score corresponding to random state: 78 is 0.8683154840388865\n",
      "r2_score corresponding to random state: 79 is 0.8719898506472241\n",
      "r2_score corresponding to random state: 80 is 0.8678943927833374\n",
      "r2_score corresponding to random state: 81 is 0.8650724762866407\n",
      "r2_score corresponding to random state: 82 is 0.8667787746289461\n",
      "r2_score corresponding to random state: 83 is 0.8651350773726006\n",
      "r2_score corresponding to random state: 84 is 0.8676706878469289\n",
      "r2_score corresponding to random state: 85 is 0.8608796242312386\n",
      "r2_score corresponding to random state: 86 is 0.8701826428612315\n",
      "r2_score corresponding to random state: 87 is 0.8696402925565487\n",
      "r2_score corresponding to random state: 88 is 0.8678529232905736\n",
      "r2_score corresponding to random state: 89 is 0.8650507138397575\n",
      "r2_score corresponding to random state: 90 is 0.8699182676313774\n",
      "r2_score corresponding to random state: 91 is 0.8670536573395127\n",
      "r2_score corresponding to random state: 92 is 0.8676481178946347\n",
      "r2_score corresponding to random state: 93 is 0.8644026621240724\n",
      "r2_score corresponding to random state: 94 is 0.863675423000349\n",
      "r2_score corresponding to random state: 95 is 0.8718262740911836\n",
      "r2_score corresponding to random state: 96 is 0.8617875121309366\n",
      "r2_score corresponding to random state: 97 is 0.8633870408829253\n",
      "r2_score corresponding to random state: 98 is 0.8720203256787804\n",
      "r2_score corresponding to random state: 99 is 0.8677401817950812\n",
      "max r2 score corresponding to 72 is: 0.8755867548774245\n"
     ]
    }
   ],
   "source": [
    "#lets use KNN regression and check max r2 score\n",
    "knr=KNeighborsRegressor(n_neighbors=8)\n",
    "r_state=maxr2_score(knr,x,y)"
   ]
  },
  {
   "cell_type": "code",
   "execution_count": 66,
   "metadata": {},
   "outputs": [
    {
     "name": "stdout",
     "output_type": "stream",
     "text": [
      "Mean r2 score for Linear Regression: 0.9999878570725181\n",
      "standard deviation in r2 score for Linear Regression:  2.7023299610610546e-07\n",
      "\n",
      "Mean r2 score for KNN Regression: 0.8664727470042175\n",
      "standard deviation in r2 score for KNeighborsRegressor:  0.004530952106269918\n",
      "\n"
     ]
    }
   ],
   "source": [
    "from sklearn.model_selection import cross_val_score\n",
    "print('Mean r2 score for Linear Regression:',cross_val_score(lreg,x,y,cv=5,scoring='r2').mean())\n",
    "print('standard deviation in r2 score for Linear Regression: ',cross_val_score(lreg,x,y,cv=5,scoring='r2').std())\n",
    "print()\n",
    "print('Mean r2 score for KNN Regression:',cross_val_score(knr,x,y,cv=5,scoring='r2').mean())\n",
    "print('standard deviation in r2 score for KNeighborsRegressor: ',cross_val_score(knr,x,y,cv=5,scoring='r2').std())\n",
    "print()"
   ]
  },
  {
   "cell_type": "code",
   "execution_count": 67,
   "metadata": {},
   "outputs": [
    {
     "data": {
      "text/plain": [
       "{'alpha': 0.1}"
      ]
     },
     "execution_count": 67,
     "metadata": {},
     "output_type": "execute_result"
    }
   ],
   "source": [
    "#lets check lasso regression & find alpha\n",
    "from sklearn.linear_model import Lasso\n",
    "lsreg=Lasso()\n",
    "parameters={'alpha':[0.001,0.01,0.1,1]}\n",
    "clf=GridSearchCV(lsreg,parameters,cv=10)\n",
    "clf.fit(x,y)\n",
    "clf.best_params_"
   ]
  },
  {
   "cell_type": "code",
   "execution_count": 68,
   "metadata": {
    "scrolled": true
   },
   "outputs": [
    {
     "name": "stdout",
     "output_type": "stream",
     "text": [
      "r2_score corresponding to random state: 42 is 0.9999882770657034\n",
      "r2_score corresponding to random state: 43 is 0.9999875027840227\n",
      "r2_score corresponding to random state: 44 is 0.99998798221855\n",
      "r2_score corresponding to random state: 45 is 0.9999875644775077\n",
      "r2_score corresponding to random state: 46 is 0.9999877471247434\n",
      "r2_score corresponding to random state: 47 is 0.9999879627564969\n",
      "r2_score corresponding to random state: 48 is 0.9999878842009546\n",
      "r2_score corresponding to random state: 49 is 0.9999879552425879\n",
      "r2_score corresponding to random state: 50 is 0.9999878086582108\n",
      "r2_score corresponding to random state: 51 is 0.9999875616935218\n",
      "r2_score corresponding to random state: 52 is 0.9999890171251907\n",
      "r2_score corresponding to random state: 53 is 0.999987933116249\n",
      "r2_score corresponding to random state: 54 is 0.9999887745731733\n",
      "r2_score corresponding to random state: 55 is 0.9999877866231182\n",
      "r2_score corresponding to random state: 56 is 0.9999884898823379\n",
      "r2_score corresponding to random state: 57 is 0.9999876013679135\n",
      "r2_score corresponding to random state: 58 is 0.999988305006873\n",
      "r2_score corresponding to random state: 59 is 0.9999881585421021\n",
      "r2_score corresponding to random state: 60 is 0.9999873226468621\n",
      "r2_score corresponding to random state: 61 is 0.9999885923093903\n",
      "r2_score corresponding to random state: 62 is 0.9999879758504922\n",
      "r2_score corresponding to random state: 63 is 0.9999885863879436\n",
      "r2_score corresponding to random state: 64 is 0.9999878910925316\n",
      "r2_score corresponding to random state: 65 is 0.9999873531343478\n",
      "r2_score corresponding to random state: 66 is 0.9999881263630769\n",
      "r2_score corresponding to random state: 67 is 0.9999876120736436\n",
      "r2_score corresponding to random state: 68 is 0.9999874329625725\n",
      "r2_score corresponding to random state: 69 is 0.9999868226328605\n",
      "r2_score corresponding to random state: 70 is 0.9999882483436299\n",
      "r2_score corresponding to random state: 71 is 0.9999882812513958\n",
      "r2_score corresponding to random state: 72 is 0.99998808409545\n",
      "r2_score corresponding to random state: 73 is 0.9999877916408548\n",
      "r2_score corresponding to random state: 74 is 0.99998800010583\n",
      "r2_score corresponding to random state: 75 is 0.9999875559527179\n",
      "r2_score corresponding to random state: 76 is 0.9999876637630798\n",
      "r2_score corresponding to random state: 77 is 0.9999877837174671\n",
      "r2_score corresponding to random state: 78 is 0.999988686011403\n",
      "r2_score corresponding to random state: 79 is 0.9999879843579181\n",
      "r2_score corresponding to random state: 80 is 0.9999879444588363\n",
      "r2_score corresponding to random state: 81 is 0.9999883079900295\n",
      "r2_score corresponding to random state: 82 is 0.9999872204973054\n",
      "r2_score corresponding to random state: 83 is 0.9999882467076024\n",
      "r2_score corresponding to random state: 84 is 0.9999870101412659\n",
      "r2_score corresponding to random state: 85 is 0.9999877093904617\n",
      "r2_score corresponding to random state: 86 is 0.999988129372891\n",
      "r2_score corresponding to random state: 87 is 0.9999877295008403\n",
      "r2_score corresponding to random state: 88 is 0.9999878151688302\n",
      "r2_score corresponding to random state: 89 is 0.9999875621939632\n",
      "r2_score corresponding to random state: 90 is 0.9999885206461094\n",
      "r2_score corresponding to random state: 91 is 0.9999876939493428\n",
      "r2_score corresponding to random state: 92 is 0.9999879150150731\n",
      "r2_score corresponding to random state: 93 is 0.9999884188018439\n",
      "r2_score corresponding to random state: 94 is 0.9999879115058878\n",
      "r2_score corresponding to random state: 95 is 0.9999870265409793\n",
      "r2_score corresponding to random state: 96 is 0.9999880111706975\n",
      "r2_score corresponding to random state: 97 is 0.9999874264587515\n",
      "r2_score corresponding to random state: 98 is 0.9999877642407213\n",
      "r2_score corresponding to random state: 99 is 0.9999878786658789\n",
      "max r2 score corresponding to 52 is: 0.9999890171251907\n"
     ]
    }
   ],
   "source": [
    "#lets check max_r2_score with alpha=0.1\n",
    "lsreg=Lasso(alpha=0.1)\n",
    "r_state=maxr2_score(lsreg,x,y)"
   ]
  },
  {
   "cell_type": "code",
   "execution_count": 69,
   "metadata": {},
   "outputs": [
    {
     "name": "stdout",
     "output_type": "stream",
     "text": [
      "Mean r2 score for Lasso Regression: 0.9999878740561238\n",
      "standard deviation in r2 score for Lasso Regression:  2.703977444250298e-07\n",
      "\n"
     ]
    }
   ],
   "source": [
    "print('Mean r2 score for Lasso Regression:',cross_val_score(lsreg,x,y,cv=5,scoring='r2').mean())\n",
    "print('standard deviation in r2 score for Lasso Regression: ',cross_val_score(lsreg,x,y,cv=5,scoring='r2').std())\n",
    "print()"
   ]
  },
  {
   "cell_type": "code",
   "execution_count": 70,
   "metadata": {},
   "outputs": [
    {
     "data": {
      "text/plain": [
       "{'learning_rate': 0.01, 'n_estimators': 1000}"
      ]
     },
     "execution_count": 70,
     "metadata": {},
     "output_type": "execute_result"
    }
   ],
   "source": [
    "#Now we will try to boost \n",
    "from sklearn.ensemble import GradientBoostingRegressor\n",
    "import warnings\n",
    "warnings.filterwarnings('ignore')\n",
    "gbr=GradientBoostingRegressor()\n",
    "parameters={'learning_rate':[0.001,0.01,0.1,1],'n_estimators':[10,100,500,1000]}\n",
    "clf=GridSearchCV(gbr,parameters,cv=5)\n",
    "clf.fit(x,y)\n",
    "clf.best_params_"
   ]
  },
  {
   "cell_type": "code",
   "execution_count": 71,
   "metadata": {},
   "outputs": [
    {
     "name": "stdout",
     "output_type": "stream",
     "text": [
      "Mean r2 score for GradientBoostingRegressor: 0.9999993155937318\n",
      "standard deviation in r2 score for GradientBoostingRegressor:  2.0836379408779742e-08\n",
      "\n"
     ]
    }
   ],
   "source": [
    "gbr=GradientBoostingRegressor(learning_rate=0.01 ,n_estimators=1000 )\n",
    "print('Mean r2 score for GradientBoostingRegressor:',cross_val_score(gbr,x,y,cv=5,scoring='r2').mean())\n",
    "print('standard deviation in r2 score for GradientBoostingRegressor: ',cross_val_score(gbr,x,y,cv=5,scoring='r2').std())\n",
    "print()"
   ]
  },
  {
   "cell_type": "code",
   "execution_count": null,
   "metadata": {},
   "outputs": [],
   "source": [
    "#We tried all the models and till now the best is  GradientBoostingRegressor\n",
    "x_train,x_test,y_train,y_test = train_test_split(x,y,random_state =47 ,test_size = 0.20)\n",
    "gbr=GradientBoostingRegressor()\n",
    "gbr.fit(x_train, y_train)\n",
    "y_pred=gbr.predict(x_test)"
   ]
  },
  {
   "cell_type": "code",
   "execution_count": null,
   "metadata": {},
   "outputs": [],
   "source": [
    "import numpy as np\n",
    "from sklearn.metrics import r2_score\n",
    "from sklearn.metrics import mean_squared_error\n",
    "print('RMSE:', np.sqrt(mean_squared_error(y_test, y_pred)))\n",
    "print('r2 score is:',r2_score(y_test, y_pred))"
   ]
  },
  {
   "cell_type": "code",
   "execution_count": null,
   "metadata": {},
   "outputs": [],
   "source": []
  },
  {
   "cell_type": "code",
   "execution_count": null,
   "metadata": {},
   "outputs": [],
   "source": []
  },
  {
   "cell_type": "code",
   "execution_count": null,
   "metadata": {},
   "outputs": [],
   "source": []
  },
  {
   "cell_type": "code",
   "execution_count": null,
   "metadata": {},
   "outputs": [],
   "source": []
  },
  {
   "cell_type": "markdown",
   "metadata": {},
   "source": [
    "I choose DecisionTreeRegressor as my final model because it performed very well on dataset"
   ]
  },
  {
   "cell_type": "code",
   "execution_count": 61,
   "metadata": {},
   "outputs": [
    {
     "data": {
      "text/plain": [
       "['Project14.obj']"
      ]
     },
     "execution_count": 61,
     "metadata": {},
     "output_type": "execute_result"
    }
   ],
   "source": [
    "from sklearn.externals import joblib\n",
    "#save the model \n",
    "joblib.dump(DT, 'Project14.obj')"
   ]
  },
  {
   "cell_type": "code",
   "execution_count": null,
   "metadata": {},
   "outputs": [],
   "source": []
  }
 ],
 "metadata": {
  "kernelspec": {
   "display_name": "Python 3",
   "language": "python",
   "name": "python3"
  },
  "language_info": {
   "codemirror_mode": {
    "name": "ipython",
    "version": 3
   },
   "file_extension": ".py",
   "mimetype": "text/x-python",
   "name": "python",
   "nbconvert_exporter": "python",
   "pygments_lexer": "ipython3",
   "version": "3.7.6"
  }
 },
 "nbformat": 4,
 "nbformat_minor": 4
}
